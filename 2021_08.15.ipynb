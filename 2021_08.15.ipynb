{
 "cells": [
  {
   "cell_type": "markdown",
   "source": [
    "# 내용 요약\n",
    "- 모델 설계 복습\n",
    "- 데이터 전처리 복습\n",
    "- checkpoint 저장을 사용한 모델 저장 및 불러오기"
   ],
   "metadata": {}
  },
  {
   "cell_type": "markdown",
   "source": [
    "# Import List"
   ],
   "metadata": {}
  },
  {
   "cell_type": "code",
   "execution_count": 2,
   "source": [
    "import os\n",
    "from glob import glob\n",
    "from datetime import datetime\n",
    "\n",
    "import numpy as np\n",
    "\n",
    "import tensorflow as tf\n",
    "from tensorflow.keras import layers\n",
    "from tensorflow.keras import  datasets\n",
    "\n",
    "import matplotlib.pyplot as plt\n",
    "%matplotlib inline"
   ],
   "outputs": [],
   "metadata": {}
  },
  {
   "cell_type": "markdown",
   "source": [
    "# 하이퍼 파라미터 셋팅"
   ],
   "metadata": {}
  },
  {
   "cell_type": "code",
   "execution_count": 46,
   "source": [
    "numEpochs = 50\n",
    "batchSize = 100\n",
    "\n",
    "learningRate = 0.001\n",
    "\n",
    "dropoutRate = 0.5\n",
    "\n",
    "inputShape = (32, 32, 3)\n",
    "numClasses = 10"
   ],
   "outputs": [],
   "metadata": {}
  },
  {
   "cell_type": "markdown",
   "source": [
    "# Build Model"
   ],
   "metadata": {}
  },
  {
   "cell_type": "markdown",
   "source": [
    "![CNN](images/CNN.png)"
   ],
   "metadata": {}
  },
  {
   "cell_type": "code",
   "execution_count": 47,
   "source": [
    "inputs = layers.Input(inputShape)\n",
    "\n",
    "net = layers.Conv2D(32, (3,3), padding = 'SAME')(inputs)\n",
    "net = layers.Activation('relu')(net)\n",
    "net = layers.Conv2D(32, (3, 3), padding = 'SAME')(net)\n",
    "net = layers.MaxPooling2D(pool_size=(2,2))(net)\n",
    "net = layers.Dropout(dropoutRate)(net)\n",
    "\n",
    "net = layers.Conv2D(64, (3,3), padding='SAME')(net)\n",
    "net = layers.Activation('relu')(net)\n",
    "net = layers.Conv2D(64, (3,3), padding='SAME')(net)\n",
    "net = layers.Activation('relu')(net)\n",
    "net = layers.MaxPooling2D(pool_size=(2,2))(net)\n",
    "net =  layers.Dropout(dropoutRate)(net)\n",
    "\n",
    "net = layers.Flatten()(net)\n",
    "net = layers.Dense(512)(net)\n",
    "net = layers.Activation('relu')(net)\n",
    "net = layers.Dropout(dropoutRate)(net)\n",
    "net = layers.Dense(numClasses)(net)\n",
    "net = layers.Activation('softmax')(net)\n",
    "\n",
    "model = tf.keras.Model(inputs = inputs, outputs = net, name = 'Basic_CNN')"
   ],
   "outputs": [],
   "metadata": {}
  },
  {
   "cell_type": "code",
   "execution_count": 48,
   "source": [
    "model.compile(optimizer=tf.keras.optimizers.Adam(learningRate),\n",
    "              loss = 'sparse_categorical_crossentropy',\n",
    "              metrics = ['accuracy'])"
   ],
   "outputs": [],
   "metadata": {}
  },
  {
   "cell_type": "code",
   "execution_count": 49,
   "source": [
    "model.summary()"
   ],
   "outputs": [
    {
     "output_type": "stream",
     "name": "stdout",
     "text": [
      "Model: \"Basic_CNN\"\n",
      "_________________________________________________________________\n",
      "Layer (type)                 Output Shape              Param #   \n",
      "=================================================================\n",
      "input_4 (InputLayer)         [(None, 32, 32, 3)]       0         \n",
      "_________________________________________________________________\n",
      "conv2d_12 (Conv2D)           (None, 32, 32, 32)        896       \n",
      "_________________________________________________________________\n",
      "activation_14 (Activation)   (None, 32, 32, 32)        0         \n",
      "_________________________________________________________________\n",
      "conv2d_13 (Conv2D)           (None, 32, 32, 32)        9248      \n",
      "_________________________________________________________________\n",
      "max_pooling2d_6 (MaxPooling2 (None, 16, 16, 32)        0         \n",
      "_________________________________________________________________\n",
      "dropout_9 (Dropout)          (None, 16, 16, 32)        0         \n",
      "_________________________________________________________________\n",
      "conv2d_14 (Conv2D)           (None, 16, 16, 64)        18496     \n",
      "_________________________________________________________________\n",
      "activation_15 (Activation)   (None, 16, 16, 64)        0         \n",
      "_________________________________________________________________\n",
      "conv2d_15 (Conv2D)           (None, 16, 16, 64)        36928     \n",
      "_________________________________________________________________\n",
      "activation_16 (Activation)   (None, 16, 16, 64)        0         \n",
      "_________________________________________________________________\n",
      "max_pooling2d_7 (MaxPooling2 (None, 8, 8, 64)          0         \n",
      "_________________________________________________________________\n",
      "dropout_10 (Dropout)         (None, 8, 8, 64)          0         \n",
      "_________________________________________________________________\n",
      "flatten_3 (Flatten)          (None, 4096)              0         \n",
      "_________________________________________________________________\n",
      "dense_5 (Dense)              (None, 512)               2097664   \n",
      "_________________________________________________________________\n",
      "activation_17 (Activation)   (None, 512)               0         \n",
      "_________________________________________________________________\n",
      "dropout_11 (Dropout)         (None, 512)               0         \n",
      "_________________________________________________________________\n",
      "dense_6 (Dense)              (None, 10)                5130      \n",
      "_________________________________________________________________\n",
      "activation_18 (Activation)   (None, 10)                0         \n",
      "=================================================================\n",
      "Total params: 2,168,362\n",
      "Trainable params: 2,168,362\n",
      "Non-trainable params: 0\n",
      "_________________________________________________________________\n"
     ]
    }
   ],
   "metadata": {}
  },
  {
   "cell_type": "markdown",
   "source": [
    "# 데이터 전처리"
   ],
   "metadata": {}
  },
  {
   "cell_type": "code",
   "execution_count": 50,
   "source": [
    "trainPaths = glob('dataset/cifar/train/*.png')\n",
    "testPaths = glob('dataset/cifar/test/*.png')"
   ],
   "outputs": [],
   "metadata": {}
  },
  {
   "cell_type": "code",
   "execution_count": 51,
   "source": [
    "len(trainPaths), len(testPaths)"
   ],
   "outputs": [
    {
     "output_type": "execute_result",
     "data": {
      "text/plain": [
       "(50000, 10000)"
      ]
     },
     "metadata": {},
     "execution_count": 51
    }
   ],
   "metadata": {}
  },
  {
   "cell_type": "code",
   "execution_count": 52,
   "source": [
    "def get_class_name(path):\n",
    "    return path.split('_')[-1].replace('.png', '')\n",
    "\n",
    "print(f'[get_class_name] output : {trainPaths[0]} -> {get_class_name(trainPaths[0])}')"
   ],
   "outputs": [
    {
     "output_type": "stream",
     "name": "stdout",
     "text": [
      "[get_class_name] output : dataset/cifar/train/32270_deer.png -> deer\n"
     ]
    }
   ],
   "metadata": {}
  },
  {
   "cell_type": "code",
   "execution_count": 53,
   "source": [
    "trainLabels = [get_class_name(path) for path in trainPaths]\n",
    "classNames = np.unique(trainLabels)\n",
    "\n",
    "print(f\"trainLabels : {trainLabels[:3]} ...\")\n",
    "print(f\"classNames : {classNames}\")"
   ],
   "outputs": [
    {
     "output_type": "stream",
     "name": "stdout",
     "text": [
      "trainLabels : ['deer', 'cat', 'deer'] ...\n",
      "classNames : ['airplane' 'automobile' 'bird' 'cat' 'deer' 'dog' 'frog' 'horse' 'ship'\n",
      " 'truck']\n"
     ]
    }
   ],
   "metadata": {}
  },
  {
   "cell_type": "code",
   "execution_count": 54,
   "source": [
    "def get_label(path):\n",
    "    fname = tf.strings.split(path, '_')[-1]\n",
    "    lblName = tf.strings.regex_replace(fname, '.png', '')\n",
    "\n",
    "    onehot = tf.cast(lblName == classNames, tf.uint8)\n",
    "    return tf.argmax(onehot)"
   ],
   "outputs": [],
   "metadata": {}
  },
  {
   "cell_type": "code",
   "execution_count": 55,
   "source": [
    "def load_image_label(path):\n",
    "    gfile = tf.io.read_file(path)\n",
    "    image = tf.io.decode_image(gfile)\n",
    "    image = tf.cast(image, tf.float32) / 255.\n",
    "\n",
    "    label = get_label(path)\n",
    "    return image, label"
   ],
   "outputs": [],
   "metadata": {}
  },
  {
   "cell_type": "code",
   "execution_count": 56,
   "source": [
    "def image_preprocess(image, label):\n",
    "    image = tf.image.random_flip_left_right(image)\n",
    "    image = tf.image.random_flip_up_down(image)\n",
    "\n",
    "    return image, label"
   ],
   "outputs": [],
   "metadata": {}
  },
  {
   "cell_type": "code",
   "execution_count": 57,
   "source": [
    "AUTOTUNE = tf.data.experimental.AUTOTUNE    "
   ],
   "outputs": [],
   "metadata": {}
  },
  {
   "cell_type": "markdown",
   "source": [
    "- AUTOTUNE은 tf.data에 런타임에 값을 동적으로 조정하도록 요청합니다.\n",
    "- tf.data는 모든 조정 가능한 작업에서 올바른 CPU 예산을 찾습니다.\n",
    "- AUTOTUNE은 버퍼 크기, CPU 예산 및 I / O 작업에 대한 병렬 처리 수준을 결정합니다"
   ],
   "metadata": {}
  },
  {
   "cell_type": "code",
   "execution_count": 58,
   "source": [
    "trainDataset = tf.data.Dataset.from_tensor_slices(trainPaths)\n",
    "trainDataset = trainDataset.map(load_image_label)               # 모든 학습 데이터에 load_image_label 적용\n",
    "trainDataset = trainDataset.map(image_preprocess)               # 모든 학습 데이터에 image_preprocess 적용\n",
    "trainDataset = trainDataset.batch(batchSize)\n",
    "trainDataset = trainDataset.shuffle(buffer_size=len(trainPaths))\n",
    "trainDataset = trainDataset.repeat()\n",
    "\n",
    "testDataset = tf.data.Dataset.from_tensor_slices(testPaths)\n",
    "testDataset = testDataset.map(load_image_label)\n",
    "testDataset = testDataset.batch(batchSize)\n",
    "testDataset = testDataset.repeat()"
   ],
   "outputs": [],
   "metadata": {}
  },
  {
   "cell_type": "markdown",
   "source": [
    "# Check Point\n",
    "\n",
    "모델을 저장할 떄 사용하는 콜백 함수이다.\n",
    "\n",
    "```\n",
    "checkpoint = tf.keras.callbacks.ModelCheckpoint(\n",
    "                             filename,             # file명을 지정합니다\n",
    "                             monitor='val_loss',   # val_loss 값이 개선되었을때 호출됩니다\n",
    "                             verbose=1,            # 로그를 출력합니다\n",
    "                             save_best_only=True,  # 가장 best 값만 저장합니다\n",
    "                             mode='auto'           # auto는 알아서 best를 찾습니다. min/max\n",
    "                            )\n",
    "\n",
    "```"
   ],
   "metadata": {}
  },
  {
   "cell_type": "code",
   "execution_count": 59,
   "source": [
    "savePath = 'checkPoints'"
   ],
   "outputs": [],
   "metadata": {}
  },
  {
   "cell_type": "code",
   "execution_count": 60,
   "source": [
    "checkpoint = tf.keras.callbacks.ModelCheckpoint(\n",
    "    savePath,\n",
    "    monitor='val_accuracy',\n",
    "    verbose=1,\n",
    "    save_best_only=True,\n",
    "    mode = 'max'\n",
    ")"
   ],
   "outputs": [],
   "metadata": {}
  },
  {
   "cell_type": "markdown",
   "source": [
    "# Training"
   ],
   "metadata": {}
  },
  {
   "cell_type": "code",
   "execution_count": 61,
   "source": [
    "stepsPerEpoch = len(trainPaths) // batchSize\n",
    "validationSteps = len(testPaths) // batchSize\n",
    "\n",
    "history = model.fit_generator(\n",
    "    trainDataset,\n",
    "    steps_per_epoch=stepsPerEpoch,\n",
    "    validation_data=testDataset,\n",
    "    validation_steps=validationSteps,\n",
    "    epochs = numEpochs,\n",
    "    callbacks=[checkpoint]\n",
    ")"
   ],
   "outputs": [
    {
     "output_type": "stream",
     "name": "stderr",
     "text": [
      "/Users/yoon-yeoungjin/miniforge3/envs/tf/lib/python3.8/site-packages/tensorflow/python/keras/engine/training.py:1940: UserWarning: `Model.fit_generator` is deprecated and will be removed in a future version. Please use `Model.fit`, which supports generators.\n",
      "  warnings.warn('`Model.fit_generator` is deprecated and '\n",
      "2021-08-15 14:38:08.793817: I tensorflow/core/grappler/optimizers/custom_graph_optimizer_registry.cc:112] Plugin optimizer for device_type GPU is enabled.\n"
     ]
    },
    {
     "output_type": "stream",
     "name": "stdout",
     "text": [
      "Epoch 1/50\n"
     ]
    },
    {
     "output_type": "stream",
     "name": "stderr",
     "text": [
      "2021-08-15 14:38:18.826942: I tensorflow/core/kernels/data/shuffle_dataset_op.cc:177] Filling up shuffle buffer (this may take a while): 1488 of 50000\n",
      "2021-08-15 14:38:18.893437: I tensorflow/core/kernels/data/shuffle_dataset_op.cc:230] Shuffle buffer filled.\n"
     ]
    },
    {
     "output_type": "stream",
     "name": "stdout",
     "text": [
      "499/500 [============================>.] - ETA: 0s - loss: 1.7262 - accuracy: 0.3618"
     ]
    },
    {
     "output_type": "stream",
     "name": "stderr",
     "text": [
      "2021-08-15 14:38:35.315429: I tensorflow/core/grappler/optimizers/custom_graph_optimizer_registry.cc:112] Plugin optimizer for device_type GPU is enabled.\n"
     ]
    },
    {
     "output_type": "stream",
     "name": "stdout",
     "text": [
      "500/500 [==============================] - 28s 33ms/step - loss: 1.7255 - accuracy: 0.3621 - val_loss: 1.3615 - val_accuracy: 0.5037\n",
      "\n",
      "Epoch 00001: val_accuracy improved from -inf to 0.50370, saving model to checkPoints\n"
     ]
    },
    {
     "output_type": "stream",
     "name": "stderr",
     "text": [
      "2021-08-15 14:38:36.484563: W tensorflow/python/util/util.cc:348] Sets are not currently considered sequences, but this may change in the future, so consider avoiding using them.\n"
     ]
    },
    {
     "output_type": "stream",
     "name": "stdout",
     "text": [
      "INFO:tensorflow:Assets written to: checkPoints/assets\n",
      "Epoch 2/50\n",
      "500/500 [==============================] - 15s 31ms/step - loss: 1.4125 - accuracy: 0.4831 - val_loss: 1.2400 - val_accuracy: 0.5494\n",
      "\n",
      "Epoch 00002: val_accuracy improved from 0.50370 to 0.54940, saving model to checkPoints\n",
      "INFO:tensorflow:Assets written to: checkPoints/assets\n",
      "Epoch 3/50\n",
      "500/500 [==============================] - 16s 31ms/step - loss: 1.2980 - accuracy: 0.5351 - val_loss: 1.1307 - val_accuracy: 0.5950\n",
      "\n",
      "Epoch 00003: val_accuracy improved from 0.54940 to 0.59500, saving model to checkPoints\n",
      "INFO:tensorflow:Assets written to: checkPoints/assets\n",
      "Epoch 4/50\n",
      "500/500 [==============================] - 15s 30ms/step - loss: 1.2096 - accuracy: 0.5642 - val_loss: 1.0561 - val_accuracy: 0.6157\n",
      "\n",
      "Epoch 00004: val_accuracy improved from 0.59500 to 0.61570, saving model to checkPoints\n",
      "INFO:tensorflow:Assets written to: checkPoints/assets\n",
      "Epoch 5/50\n",
      "500/500 [==============================] - 16s 33ms/step - loss: 1.1456 - accuracy: 0.5876 - val_loss: 1.0084 - val_accuracy: 0.6411\n",
      "\n",
      "Epoch 00005: val_accuracy improved from 0.61570 to 0.64110, saving model to checkPoints\n",
      "INFO:tensorflow:Assets written to: checkPoints/assets\n",
      "Epoch 6/50\n",
      "500/500 [==============================] - 17s 33ms/step - loss: 1.0926 - accuracy: 0.6072 - val_loss: 0.9754 - val_accuracy: 0.6562\n",
      "\n",
      "Epoch 00006: val_accuracy improved from 0.64110 to 0.65620, saving model to checkPoints\n",
      "INFO:tensorflow:Assets written to: checkPoints/assets\n",
      "Epoch 7/50\n",
      "500/500 [==============================] - 16s 31ms/step - loss: 1.0565 - accuracy: 0.6219 - val_loss: 0.9005 - val_accuracy: 0.6841\n",
      "\n",
      "Epoch 00007: val_accuracy improved from 0.65620 to 0.68410, saving model to checkPoints\n",
      "INFO:tensorflow:Assets written to: checkPoints/assets\n",
      "Epoch 8/50\n",
      "500/500 [==============================] - 15s 31ms/step - loss: 1.0292 - accuracy: 0.6341 - val_loss: 0.9102 - val_accuracy: 0.6759\n",
      "\n",
      "Epoch 00008: val_accuracy did not improve from 0.68410\n",
      "Epoch 9/50\n",
      "500/500 [==============================] - 15s 30ms/step - loss: 1.0071 - accuracy: 0.6433 - val_loss: 0.8807 - val_accuracy: 0.6871\n",
      "\n",
      "Epoch 00009: val_accuracy improved from 0.68410 to 0.68710, saving model to checkPoints\n",
      "INFO:tensorflow:Assets written to: checkPoints/assets\n",
      "Epoch 10/50\n",
      "500/500 [==============================] - 14s 28ms/step - loss: 0.9813 - accuracy: 0.6522 - val_loss: 0.8535 - val_accuracy: 0.7004\n",
      "\n",
      "Epoch 00010: val_accuracy improved from 0.68710 to 0.70040, saving model to checkPoints\n",
      "INFO:tensorflow:Assets written to: checkPoints/assets\n",
      "Epoch 11/50\n",
      "500/500 [==============================] - 16s 32ms/step - loss: 0.9691 - accuracy: 0.6569 - val_loss: 0.8353 - val_accuracy: 0.7023\n",
      "\n",
      "Epoch 00011: val_accuracy improved from 0.70040 to 0.70230, saving model to checkPoints\n",
      "INFO:tensorflow:Assets written to: checkPoints/assets\n",
      "Epoch 12/50\n",
      "500/500 [==============================] - 16s 31ms/step - loss: 0.9480 - accuracy: 0.6624 - val_loss: 0.9082 - val_accuracy: 0.6836\n",
      "\n",
      "Epoch 00012: val_accuracy did not improve from 0.70230\n",
      "Epoch 13/50\n",
      "500/500 [==============================] - 16s 32ms/step - loss: 0.9318 - accuracy: 0.6674 - val_loss: 0.7982 - val_accuracy: 0.7207\n",
      "\n",
      "Epoch 00013: val_accuracy improved from 0.70230 to 0.72070, saving model to checkPoints\n",
      "INFO:tensorflow:Assets written to: checkPoints/assets\n",
      "Epoch 14/50\n",
      "500/500 [==============================] - 15s 29ms/step - loss: 0.9207 - accuracy: 0.6742 - val_loss: 0.8403 - val_accuracy: 0.7097\n",
      "\n",
      "Epoch 00014: val_accuracy did not improve from 0.72070\n",
      "Epoch 15/50\n",
      "500/500 [==============================] - 15s 30ms/step - loss: 0.9056 - accuracy: 0.6806 - val_loss: 0.7559 - val_accuracy: 0.7361\n",
      "\n",
      "Epoch 00015: val_accuracy improved from 0.72070 to 0.73610, saving model to checkPoints\n",
      "INFO:tensorflow:Assets written to: checkPoints/assets\n",
      "Epoch 16/50\n",
      "500/500 [==============================] - 15s 31ms/step - loss: 0.9033 - accuracy: 0.6800 - val_loss: 0.8032 - val_accuracy: 0.7207\n",
      "\n",
      "Epoch 00016: val_accuracy did not improve from 0.73610\n",
      "Epoch 17/50\n",
      "500/500 [==============================] - 15s 29ms/step - loss: 0.8853 - accuracy: 0.6858 - val_loss: 0.7634 - val_accuracy: 0.7339\n",
      "\n",
      "Epoch 00017: val_accuracy did not improve from 0.73610\n",
      "Epoch 18/50\n",
      "500/500 [==============================] - 15s 30ms/step - loss: 0.8780 - accuracy: 0.6910 - val_loss: 0.8049 - val_accuracy: 0.7185\n",
      "\n",
      "Epoch 00018: val_accuracy did not improve from 0.73610\n",
      "Epoch 19/50\n",
      "500/500 [==============================] - 15s 29ms/step - loss: 0.8742 - accuracy: 0.6922 - val_loss: 0.7653 - val_accuracy: 0.7357\n",
      "\n",
      "Epoch 00019: val_accuracy did not improve from 0.73610\n",
      "Epoch 20/50\n",
      "500/500 [==============================] - 15s 29ms/step - loss: 0.8583 - accuracy: 0.6975 - val_loss: 0.7495 - val_accuracy: 0.7372\n",
      "\n",
      "Epoch 00020: val_accuracy improved from 0.73610 to 0.73720, saving model to checkPoints\n",
      "INFO:tensorflow:Assets written to: checkPoints/assets\n",
      "Epoch 21/50\n",
      "500/500 [==============================] - 18s 35ms/step - loss: 0.8489 - accuracy: 0.6988 - val_loss: 0.7475 - val_accuracy: 0.7390\n",
      "\n",
      "Epoch 00021: val_accuracy improved from 0.73720 to 0.73900, saving model to checkPoints\n",
      "INFO:tensorflow:Assets written to: checkPoints/assets\n",
      "Epoch 22/50\n",
      "500/500 [==============================] - 17s 34ms/step - loss: 0.8542 - accuracy: 0.6968 - val_loss: 0.7698 - val_accuracy: 0.7382\n",
      "\n",
      "Epoch 00022: val_accuracy did not improve from 0.73900\n",
      "Epoch 23/50\n",
      "500/500 [==============================] - 16s 32ms/step - loss: 0.8423 - accuracy: 0.7041 - val_loss: 0.7249 - val_accuracy: 0.7463\n",
      "\n",
      "Epoch 00023: val_accuracy improved from 0.73900 to 0.74630, saving model to checkPoints\n",
      "INFO:tensorflow:Assets written to: checkPoints/assets\n",
      "Epoch 24/50\n",
      "500/500 [==============================] - 16s 32ms/step - loss: 0.8310 - accuracy: 0.7056 - val_loss: 0.7519 - val_accuracy: 0.7387\n",
      "\n",
      "Epoch 00024: val_accuracy did not improve from 0.74630\n",
      "Epoch 25/50\n",
      "500/500 [==============================] - 15s 31ms/step - loss: 0.8215 - accuracy: 0.7101 - val_loss: 0.7575 - val_accuracy: 0.7352\n",
      "\n",
      "Epoch 00025: val_accuracy did not improve from 0.74630\n",
      "Epoch 26/50\n",
      "500/500 [==============================] - 15s 30ms/step - loss: 0.8219 - accuracy: 0.7073 - val_loss: 0.7090 - val_accuracy: 0.7547\n",
      "\n",
      "Epoch 00026: val_accuracy improved from 0.74630 to 0.75470, saving model to checkPoints\n",
      "INFO:tensorflow:Assets written to: checkPoints/assets\n",
      "Epoch 27/50\n",
      "500/500 [==============================] - 14s 29ms/step - loss: 0.8187 - accuracy: 0.7117 - val_loss: 0.7064 - val_accuracy: 0.7538\n",
      "\n",
      "Epoch 00027: val_accuracy did not improve from 0.75470\n",
      "Epoch 28/50\n",
      "500/500 [==============================] - 15s 29ms/step - loss: 0.8120 - accuracy: 0.7141 - val_loss: 0.7204 - val_accuracy: 0.7549\n",
      "\n",
      "Epoch 00028: val_accuracy improved from 0.75470 to 0.75490, saving model to checkPoints\n",
      "INFO:tensorflow:Assets written to: checkPoints/assets\n",
      "Epoch 29/50\n",
      "500/500 [==============================] - 15s 31ms/step - loss: 0.8076 - accuracy: 0.7166 - val_loss: 0.7667 - val_accuracy: 0.7340\n",
      "\n",
      "Epoch 00029: val_accuracy did not improve from 0.75490\n",
      "Epoch 30/50\n",
      "500/500 [==============================] - 15s 30ms/step - loss: 0.8067 - accuracy: 0.7147 - val_loss: 0.7644 - val_accuracy: 0.7312\n",
      "\n",
      "Epoch 00030: val_accuracy did not improve from 0.75490\n",
      "Epoch 31/50\n",
      "500/500 [==============================] - 15s 30ms/step - loss: 0.7985 - accuracy: 0.7189 - val_loss: 0.7068 - val_accuracy: 0.7605\n",
      "\n",
      "Epoch 00031: val_accuracy improved from 0.75490 to 0.76050, saving model to checkPoints\n",
      "INFO:tensorflow:Assets written to: checkPoints/assets\n",
      "Epoch 32/50\n",
      "500/500 [==============================] - 15s 31ms/step - loss: 0.7970 - accuracy: 0.7181 - val_loss: 0.7115 - val_accuracy: 0.7547\n",
      "\n",
      "Epoch 00032: val_accuracy did not improve from 0.76050\n",
      "Epoch 33/50\n",
      "500/500 [==============================] - 15s 30ms/step - loss: 0.7870 - accuracy: 0.7222 - val_loss: 0.7082 - val_accuracy: 0.7567\n",
      "\n",
      "Epoch 00033: val_accuracy did not improve from 0.76050\n",
      "Epoch 34/50\n",
      "500/500 [==============================] - 15s 30ms/step - loss: 0.7928 - accuracy: 0.7209 - val_loss: 0.6896 - val_accuracy: 0.7619\n",
      "\n",
      "Epoch 00034: val_accuracy improved from 0.76050 to 0.76190, saving model to checkPoints\n",
      "INFO:tensorflow:Assets written to: checkPoints/assets\n",
      "Epoch 35/50\n",
      "500/500 [==============================] - 15s 30ms/step - loss: 0.7851 - accuracy: 0.7250 - val_loss: 0.6964 - val_accuracy: 0.7630\n",
      "\n",
      "Epoch 00035: val_accuracy improved from 0.76190 to 0.76300, saving model to checkPoints\n",
      "INFO:tensorflow:Assets written to: checkPoints/assets\n",
      "Epoch 36/50\n",
      "500/500 [==============================] - 14s 29ms/step - loss: 0.7843 - accuracy: 0.7240 - val_loss: 0.6843 - val_accuracy: 0.7577\n",
      "\n",
      "Epoch 00036: val_accuracy did not improve from 0.76300\n",
      "Epoch 37/50\n",
      "500/500 [==============================] - 15s 29ms/step - loss: 0.7772 - accuracy: 0.7265 - val_loss: 0.6999 - val_accuracy: 0.7572\n",
      "\n",
      "Epoch 00037: val_accuracy did not improve from 0.76300\n",
      "Epoch 38/50\n",
      "500/500 [==============================] - 15s 30ms/step - loss: 0.7843 - accuracy: 0.7248 - val_loss: 0.6930 - val_accuracy: 0.7615\n",
      "\n",
      "Epoch 00038: val_accuracy did not improve from 0.76300\n",
      "Epoch 39/50\n",
      "500/500 [==============================] - 14s 29ms/step - loss: 0.7722 - accuracy: 0.7271 - val_loss: 0.6995 - val_accuracy: 0.7587\n",
      "\n",
      "Epoch 00039: val_accuracy did not improve from 0.76300\n",
      "Epoch 40/50\n",
      "500/500 [==============================] - 16s 33ms/step - loss: 0.7649 - accuracy: 0.7324 - val_loss: 0.6772 - val_accuracy: 0.7634\n",
      "\n",
      "Epoch 00040: val_accuracy improved from 0.76300 to 0.76340, saving model to checkPoints\n",
      "INFO:tensorflow:Assets written to: checkPoints/assets\n",
      "Epoch 41/50\n",
      "500/500 [==============================] - 15s 31ms/step - loss: 0.7626 - accuracy: 0.7310 - val_loss: 0.6831 - val_accuracy: 0.7586\n",
      "\n",
      "Epoch 00041: val_accuracy did not improve from 0.76340\n",
      "Epoch 42/50\n",
      "500/500 [==============================] - 15s 30ms/step - loss: 0.7594 - accuracy: 0.7327 - val_loss: 0.6975 - val_accuracy: 0.7577\n",
      "\n",
      "Epoch 00042: val_accuracy did not improve from 0.76340\n",
      "Epoch 43/50\n",
      "500/500 [==============================] - 15s 30ms/step - loss: 0.7547 - accuracy: 0.7344 - val_loss: 0.7090 - val_accuracy: 0.7571\n",
      "\n",
      "Epoch 00043: val_accuracy did not improve from 0.76340\n",
      "Epoch 44/50\n",
      "500/500 [==============================] - 15s 30ms/step - loss: 0.7591 - accuracy: 0.7329 - val_loss: 0.6958 - val_accuracy: 0.7578\n",
      "\n",
      "Epoch 00044: val_accuracy did not improve from 0.76340\n",
      "Epoch 45/50\n",
      "500/500 [==============================] - 15s 29ms/step - loss: 0.7594 - accuracy: 0.7330 - val_loss: 0.6633 - val_accuracy: 0.7761\n",
      "\n",
      "Epoch 00045: val_accuracy improved from 0.76340 to 0.77610, saving model to checkPoints\n",
      "INFO:tensorflow:Assets written to: checkPoints/assets\n",
      "Epoch 46/50\n",
      "500/500 [==============================] - 15s 29ms/step - loss: 0.7497 - accuracy: 0.7341 - val_loss: 0.6768 - val_accuracy: 0.7628\n",
      "\n",
      "Epoch 00046: val_accuracy did not improve from 0.77610\n",
      "Epoch 47/50\n",
      "500/500 [==============================] - 15s 29ms/step - loss: 0.7435 - accuracy: 0.7354 - val_loss: 0.6466 - val_accuracy: 0.7770\n",
      "\n",
      "Epoch 00047: val_accuracy improved from 0.77610 to 0.77700, saving model to checkPoints\n",
      "INFO:tensorflow:Assets written to: checkPoints/assets\n",
      "Epoch 48/50\n",
      "500/500 [==============================] - 15s 29ms/step - loss: 0.7535 - accuracy: 0.7357 - val_loss: 0.7099 - val_accuracy: 0.7504\n",
      "\n",
      "Epoch 00048: val_accuracy did not improve from 0.77700\n",
      "Epoch 49/50\n",
      "500/500 [==============================] - 16s 31ms/step - loss: 0.7486 - accuracy: 0.7363 - val_loss: 0.6666 - val_accuracy: 0.7735\n",
      "\n",
      "Epoch 00049: val_accuracy did not improve from 0.77700\n",
      "Epoch 50/50\n",
      "500/500 [==============================] - 16s 32ms/step - loss: 0.7412 - accuracy: 0.7396 - val_loss: 0.6650 - val_accuracy: 0.7695\n",
      "\n",
      "Epoch 00050: val_accuracy did not improve from 0.77700\n"
     ]
    }
   ],
   "metadata": {}
  },
  {
   "cell_type": "markdown",
   "source": [
    "# History 들여다보기"
   ],
   "metadata": {}
  },
  {
   "cell_type": "code",
   "execution_count": 62,
   "source": [
    "history.history.keys()"
   ],
   "outputs": [
    {
     "output_type": "execute_result",
     "data": {
      "text/plain": [
       "dict_keys(['loss', 'accuracy', 'val_loss', 'val_accuracy'])"
      ]
     },
     "metadata": {},
     "execution_count": 62
    }
   ],
   "metadata": {}
  },
  {
   "cell_type": "code",
   "execution_count": 63,
   "source": [
    "history.params"
   ],
   "outputs": [
    {
     "output_type": "execute_result",
     "data": {
      "text/plain": [
       "{'verbose': 1, 'epochs': 50, 'steps': 500}"
      ]
     },
     "metadata": {},
     "execution_count": 63
    }
   ],
   "metadata": {}
  },
  {
   "cell_type": "code",
   "execution_count": 64,
   "source": [
    "newModel = history.model    # 모델을 담을 수 있다."
   ],
   "outputs": [],
   "metadata": {}
  },
  {
   "cell_type": "code",
   "execution_count": 65,
   "source": [
    "newModel.summary()"
   ],
   "outputs": [
    {
     "output_type": "stream",
     "name": "stdout",
     "text": [
      "Model: \"Basic_CNN\"\n",
      "_________________________________________________________________\n",
      "Layer (type)                 Output Shape              Param #   \n",
      "=================================================================\n",
      "input_4 (InputLayer)         [(None, 32, 32, 3)]       0         \n",
      "_________________________________________________________________\n",
      "conv2d_12 (Conv2D)           (None, 32, 32, 32)        896       \n",
      "_________________________________________________________________\n",
      "activation_14 (Activation)   (None, 32, 32, 32)        0         \n",
      "_________________________________________________________________\n",
      "conv2d_13 (Conv2D)           (None, 32, 32, 32)        9248      \n",
      "_________________________________________________________________\n",
      "max_pooling2d_6 (MaxPooling2 (None, 16, 16, 32)        0         \n",
      "_________________________________________________________________\n",
      "dropout_9 (Dropout)          (None, 16, 16, 32)        0         \n",
      "_________________________________________________________________\n",
      "conv2d_14 (Conv2D)           (None, 16, 16, 64)        18496     \n",
      "_________________________________________________________________\n",
      "activation_15 (Activation)   (None, 16, 16, 64)        0         \n",
      "_________________________________________________________________\n",
      "conv2d_15 (Conv2D)           (None, 16, 16, 64)        36928     \n",
      "_________________________________________________________________\n",
      "activation_16 (Activation)   (None, 16, 16, 64)        0         \n",
      "_________________________________________________________________\n",
      "max_pooling2d_7 (MaxPooling2 (None, 8, 8, 64)          0         \n",
      "_________________________________________________________________\n",
      "dropout_10 (Dropout)         (None, 8, 8, 64)          0         \n",
      "_________________________________________________________________\n",
      "flatten_3 (Flatten)          (None, 4096)              0         \n",
      "_________________________________________________________________\n",
      "dense_5 (Dense)              (None, 512)               2097664   \n",
      "_________________________________________________________________\n",
      "activation_17 (Activation)   (None, 512)               0         \n",
      "_________________________________________________________________\n",
      "dropout_11 (Dropout)         (None, 512)               0         \n",
      "_________________________________________________________________\n",
      "dense_6 (Dense)              (None, 10)                5130      \n",
      "_________________________________________________________________\n",
      "activation_18 (Activation)   (None, 10)                0         \n",
      "=================================================================\n",
      "Total params: 2,168,362\n",
      "Trainable params: 2,168,362\n",
      "Non-trainable params: 0\n",
      "_________________________________________________________________\n"
     ]
    }
   ],
   "metadata": {}
  },
  {
   "cell_type": "code",
   "execution_count": 72,
   "source": [
    "plt.figure(figsize=(12, 3))\n",
    "plt.subplot(121)\n",
    "plt.plot(history.history['accuracy'])\n",
    "plt.plot(history.history['val_accuracy'])\n",
    "plt.title('Model Accuracy')\n",
    "plt.xlabel('epoch')\n",
    "plt.ylabel('accuracy')\n",
    "plt.legend(['train', 'validation'])\n",
    "# plt.show()\n",
    "\n",
    "plt.subplot(122)\n",
    "plt.plot(history.history['loss'])\n",
    "plt.plot(history.history['val_loss'])\n",
    "plt.title('Model Loss')\n",
    "plt.xlabel('epoch')\n",
    "plt.ylabel('loss')\n",
    "plt.legend(['train', 'validation'])\n",
    "plt.show()"
   ],
   "outputs": [
    {
     "output_type": "display_data",
     "data": {
      "text/plain": [
       "<Figure size 864x216 with 2 Axes>"
      ],
      "image/svg+xml": "<?xml version=\"1.0\" encoding=\"utf-8\" standalone=\"no\"?>\n<!DOCTYPE svg PUBLIC \"-//W3C//DTD SVG 1.1//EN\"\n  \"http://www.w3.org/Graphics/SVG/1.1/DTD/svg11.dtd\">\n<svg height=\"222.954375pt\" version=\"1.1\" viewBox=\"0 0 720.58125 222.954375\" width=\"720.58125pt\" xmlns=\"http://www.w3.org/2000/svg\" xmlns:xlink=\"http://www.w3.org/1999/xlink\">\n <metadata>\n  <rdf:RDF xmlns:cc=\"http://creativecommons.org/ns#\" xmlns:dc=\"http://purl.org/dc/elements/1.1/\" xmlns:rdf=\"http://www.w3.org/1999/02/22-rdf-syntax-ns#\">\n   <cc:Work>\n    <dc:type rdf:resource=\"http://purl.org/dc/dcmitype/StillImage\"/>\n    <dc:date>2021-08-15T14:57:12.932363</dc:date>\n    <dc:format>image/svg+xml</dc:format>\n    <dc:creator>\n     <cc:Agent>\n      <dc:title>Matplotlib v3.4.3, https://matplotlib.org/</dc:title>\n     </cc:Agent>\n    </dc:creator>\n   </cc:Work>\n  </rdf:RDF>\n </metadata>\n <defs>\n  <style type=\"text/css\">*{stroke-linecap:butt;stroke-linejoin:round;}</style>\n </defs>\n <g id=\"figure_1\">\n  <g id=\"patch_1\">\n   <path d=\"M 0 222.954375 \nL 720.58125 222.954375 \nL 720.58125 0 \nL 0 0 \nz\n\" style=\"fill:none;\"/>\n  </g>\n  <g id=\"axes_1\">\n   <g id=\"patch_2\">\n    <path d=\"M 43.78125 185.398125 \nL 348.144886 185.398125 \nL 348.144886 22.318125 \nL 43.78125 22.318125 \nz\n\" style=\"fill:#ffffff;\"/>\n   </g>\n   <g id=\"matplotlib.axis_1\">\n    <g id=\"xtick_1\">\n     <g id=\"line2d_1\">\n      <defs>\n       <path d=\"M 0 0 \nL 0 3.5 \n\" id=\"m0a3443a8c0\" style=\"stroke:#000000;stroke-width:0.8;\"/>\n      </defs>\n      <g>\n       <use style=\"stroke:#000000;stroke-width:0.8;\" x=\"57.615961\" xlink:href=\"#m0a3443a8c0\" y=\"185.398125\"/>\n      </g>\n     </g>\n     <g id=\"text_1\">\n      <!-- 0 -->\n      <g transform=\"translate(54.434711 199.996562)scale(0.1 -0.1)\">\n       <defs>\n        <path d=\"M 2034 4250 \nQ 1547 4250 1301 3770 \nQ 1056 3291 1056 2328 \nQ 1056 1369 1301 889 \nQ 1547 409 2034 409 \nQ 2525 409 2770 889 \nQ 3016 1369 3016 2328 \nQ 3016 3291 2770 3770 \nQ 2525 4250 2034 4250 \nz\nM 2034 4750 \nQ 2819 4750 3233 4129 \nQ 3647 3509 3647 2328 \nQ 3647 1150 3233 529 \nQ 2819 -91 2034 -91 \nQ 1250 -91 836 529 \nQ 422 1150 422 2328 \nQ 422 3509 836 4129 \nQ 1250 4750 2034 4750 \nz\n\" id=\"DejaVuSans-30\" transform=\"scale(0.015625)\"/>\n       </defs>\n       <use xlink:href=\"#DejaVuSans-30\"/>\n      </g>\n     </g>\n    </g>\n    <g id=\"xtick_2\">\n     <g id=\"line2d_2\">\n      <g>\n       <use style=\"stroke:#000000;stroke-width:0.8;\" x=\"114.084168\" xlink:href=\"#m0a3443a8c0\" y=\"185.398125\"/>\n      </g>\n     </g>\n     <g id=\"text_2\">\n      <!-- 10 -->\n      <g transform=\"translate(107.721668 199.996562)scale(0.1 -0.1)\">\n       <defs>\n        <path d=\"M 794 531 \nL 1825 531 \nL 1825 4091 \nL 703 3866 \nL 703 4441 \nL 1819 4666 \nL 2450 4666 \nL 2450 531 \nL 3481 531 \nL 3481 0 \nL 794 0 \nL 794 531 \nz\n\" id=\"DejaVuSans-31\" transform=\"scale(0.015625)\"/>\n       </defs>\n       <use xlink:href=\"#DejaVuSans-31\"/>\n       <use x=\"63.623047\" xlink:href=\"#DejaVuSans-30\"/>\n      </g>\n     </g>\n    </g>\n    <g id=\"xtick_3\">\n     <g id=\"line2d_3\">\n      <g>\n       <use style=\"stroke:#000000;stroke-width:0.8;\" x=\"170.552375\" xlink:href=\"#m0a3443a8c0\" y=\"185.398125\"/>\n      </g>\n     </g>\n     <g id=\"text_3\">\n      <!-- 20 -->\n      <g transform=\"translate(164.189875 199.996562)scale(0.1 -0.1)\">\n       <defs>\n        <path d=\"M 1228 531 \nL 3431 531 \nL 3431 0 \nL 469 0 \nL 469 531 \nQ 828 903 1448 1529 \nQ 2069 2156 2228 2338 \nQ 2531 2678 2651 2914 \nQ 2772 3150 2772 3378 \nQ 2772 3750 2511 3984 \nQ 2250 4219 1831 4219 \nQ 1534 4219 1204 4116 \nQ 875 4013 500 3803 \nL 500 4441 \nQ 881 4594 1212 4672 \nQ 1544 4750 1819 4750 \nQ 2544 4750 2975 4387 \nQ 3406 4025 3406 3419 \nQ 3406 3131 3298 2873 \nQ 3191 2616 2906 2266 \nQ 2828 2175 2409 1742 \nQ 1991 1309 1228 531 \nz\n\" id=\"DejaVuSans-32\" transform=\"scale(0.015625)\"/>\n       </defs>\n       <use xlink:href=\"#DejaVuSans-32\"/>\n       <use x=\"63.623047\" xlink:href=\"#DejaVuSans-30\"/>\n      </g>\n     </g>\n    </g>\n    <g id=\"xtick_4\">\n     <g id=\"line2d_4\">\n      <g>\n       <use style=\"stroke:#000000;stroke-width:0.8;\" x=\"227.020582\" xlink:href=\"#m0a3443a8c0\" y=\"185.398125\"/>\n      </g>\n     </g>\n     <g id=\"text_4\">\n      <!-- 30 -->\n      <g transform=\"translate(220.658082 199.996562)scale(0.1 -0.1)\">\n       <defs>\n        <path d=\"M 2597 2516 \nQ 3050 2419 3304 2112 \nQ 3559 1806 3559 1356 \nQ 3559 666 3084 287 \nQ 2609 -91 1734 -91 \nQ 1441 -91 1130 -33 \nQ 819 25 488 141 \nL 488 750 \nQ 750 597 1062 519 \nQ 1375 441 1716 441 \nQ 2309 441 2620 675 \nQ 2931 909 2931 1356 \nQ 2931 1769 2642 2001 \nQ 2353 2234 1838 2234 \nL 1294 2234 \nL 1294 2753 \nL 1863 2753 \nQ 2328 2753 2575 2939 \nQ 2822 3125 2822 3475 \nQ 2822 3834 2567 4026 \nQ 2313 4219 1838 4219 \nQ 1578 4219 1281 4162 \nQ 984 4106 628 3988 \nL 628 4550 \nQ 988 4650 1302 4700 \nQ 1616 4750 1894 4750 \nQ 2613 4750 3031 4423 \nQ 3450 4097 3450 3541 \nQ 3450 3153 3228 2886 \nQ 3006 2619 2597 2516 \nz\n\" id=\"DejaVuSans-33\" transform=\"scale(0.015625)\"/>\n       </defs>\n       <use xlink:href=\"#DejaVuSans-33\"/>\n       <use x=\"63.623047\" xlink:href=\"#DejaVuSans-30\"/>\n      </g>\n     </g>\n    </g>\n    <g id=\"xtick_5\">\n     <g id=\"line2d_5\">\n      <g>\n       <use style=\"stroke:#000000;stroke-width:0.8;\" x=\"283.488789\" xlink:href=\"#m0a3443a8c0\" y=\"185.398125\"/>\n      </g>\n     </g>\n     <g id=\"text_5\">\n      <!-- 40 -->\n      <g transform=\"translate(277.126289 199.996562)scale(0.1 -0.1)\">\n       <defs>\n        <path d=\"M 2419 4116 \nL 825 1625 \nL 2419 1625 \nL 2419 4116 \nz\nM 2253 4666 \nL 3047 4666 \nL 3047 1625 \nL 3713 1625 \nL 3713 1100 \nL 3047 1100 \nL 3047 0 \nL 2419 0 \nL 2419 1100 \nL 313 1100 \nL 313 1709 \nL 2253 4666 \nz\n\" id=\"DejaVuSans-34\" transform=\"scale(0.015625)\"/>\n       </defs>\n       <use xlink:href=\"#DejaVuSans-34\"/>\n       <use x=\"63.623047\" xlink:href=\"#DejaVuSans-30\"/>\n      </g>\n     </g>\n    </g>\n    <g id=\"xtick_6\">\n     <g id=\"line2d_6\">\n      <g>\n       <use style=\"stroke:#000000;stroke-width:0.8;\" x=\"339.956996\" xlink:href=\"#m0a3443a8c0\" y=\"185.398125\"/>\n      </g>\n     </g>\n     <g id=\"text_6\">\n      <!-- 50 -->\n      <g transform=\"translate(333.594496 199.996562)scale(0.1 -0.1)\">\n       <defs>\n        <path d=\"M 691 4666 \nL 3169 4666 \nL 3169 4134 \nL 1269 4134 \nL 1269 2991 \nQ 1406 3038 1543 3061 \nQ 1681 3084 1819 3084 \nQ 2600 3084 3056 2656 \nQ 3513 2228 3513 1497 \nQ 3513 744 3044 326 \nQ 2575 -91 1722 -91 \nQ 1428 -91 1123 -41 \nQ 819 9 494 109 \nL 494 744 \nQ 775 591 1075 516 \nQ 1375 441 1709 441 \nQ 2250 441 2565 725 \nQ 2881 1009 2881 1497 \nQ 2881 1984 2565 2268 \nQ 2250 2553 1709 2553 \nQ 1456 2553 1204 2497 \nQ 953 2441 691 2322 \nL 691 4666 \nz\n\" id=\"DejaVuSans-35\" transform=\"scale(0.015625)\"/>\n       </defs>\n       <use xlink:href=\"#DejaVuSans-35\"/>\n       <use x=\"63.623047\" xlink:href=\"#DejaVuSans-30\"/>\n      </g>\n     </g>\n    </g>\n    <g id=\"text_7\">\n     <!-- epoch -->\n     <g transform=\"translate(180.734943 213.674688)scale(0.1 -0.1)\">\n      <defs>\n       <path d=\"M 3597 1894 \nL 3597 1613 \nL 953 1613 \nQ 991 1019 1311 708 \nQ 1631 397 2203 397 \nQ 2534 397 2845 478 \nQ 3156 559 3463 722 \nL 3463 178 \nQ 3153 47 2828 -22 \nQ 2503 -91 2169 -91 \nQ 1331 -91 842 396 \nQ 353 884 353 1716 \nQ 353 2575 817 3079 \nQ 1281 3584 2069 3584 \nQ 2775 3584 3186 3129 \nQ 3597 2675 3597 1894 \nz\nM 3022 2063 \nQ 3016 2534 2758 2815 \nQ 2500 3097 2075 3097 \nQ 1594 3097 1305 2825 \nQ 1016 2553 972 2059 \nL 3022 2063 \nz\n\" id=\"DejaVuSans-65\" transform=\"scale(0.015625)\"/>\n       <path d=\"M 1159 525 \nL 1159 -1331 \nL 581 -1331 \nL 581 3500 \nL 1159 3500 \nL 1159 2969 \nQ 1341 3281 1617 3432 \nQ 1894 3584 2278 3584 \nQ 2916 3584 3314 3078 \nQ 3713 2572 3713 1747 \nQ 3713 922 3314 415 \nQ 2916 -91 2278 -91 \nQ 1894 -91 1617 61 \nQ 1341 213 1159 525 \nz\nM 3116 1747 \nQ 3116 2381 2855 2742 \nQ 2594 3103 2138 3103 \nQ 1681 3103 1420 2742 \nQ 1159 2381 1159 1747 \nQ 1159 1113 1420 752 \nQ 1681 391 2138 391 \nQ 2594 391 2855 752 \nQ 3116 1113 3116 1747 \nz\n\" id=\"DejaVuSans-70\" transform=\"scale(0.015625)\"/>\n       <path d=\"M 1959 3097 \nQ 1497 3097 1228 2736 \nQ 959 2375 959 1747 \nQ 959 1119 1226 758 \nQ 1494 397 1959 397 \nQ 2419 397 2687 759 \nQ 2956 1122 2956 1747 \nQ 2956 2369 2687 2733 \nQ 2419 3097 1959 3097 \nz\nM 1959 3584 \nQ 2709 3584 3137 3096 \nQ 3566 2609 3566 1747 \nQ 3566 888 3137 398 \nQ 2709 -91 1959 -91 \nQ 1206 -91 779 398 \nQ 353 888 353 1747 \nQ 353 2609 779 3096 \nQ 1206 3584 1959 3584 \nz\n\" id=\"DejaVuSans-6f\" transform=\"scale(0.015625)\"/>\n       <path d=\"M 3122 3366 \nL 3122 2828 \nQ 2878 2963 2633 3030 \nQ 2388 3097 2138 3097 \nQ 1578 3097 1268 2742 \nQ 959 2388 959 1747 \nQ 959 1106 1268 751 \nQ 1578 397 2138 397 \nQ 2388 397 2633 464 \nQ 2878 531 3122 666 \nL 3122 134 \nQ 2881 22 2623 -34 \nQ 2366 -91 2075 -91 \nQ 1284 -91 818 406 \nQ 353 903 353 1747 \nQ 353 2603 823 3093 \nQ 1294 3584 2113 3584 \nQ 2378 3584 2631 3529 \nQ 2884 3475 3122 3366 \nz\n\" id=\"DejaVuSans-63\" transform=\"scale(0.015625)\"/>\n       <path d=\"M 3513 2113 \nL 3513 0 \nL 2938 0 \nL 2938 2094 \nQ 2938 2591 2744 2837 \nQ 2550 3084 2163 3084 \nQ 1697 3084 1428 2787 \nQ 1159 2491 1159 1978 \nL 1159 0 \nL 581 0 \nL 581 4863 \nL 1159 4863 \nL 1159 2956 \nQ 1366 3272 1645 3428 \nQ 1925 3584 2291 3584 \nQ 2894 3584 3203 3211 \nQ 3513 2838 3513 2113 \nz\n\" id=\"DejaVuSans-68\" transform=\"scale(0.015625)\"/>\n      </defs>\n      <use xlink:href=\"#DejaVuSans-65\"/>\n      <use x=\"61.523438\" xlink:href=\"#DejaVuSans-70\"/>\n      <use x=\"125\" xlink:href=\"#DejaVuSans-6f\"/>\n      <use x=\"186.181641\" xlink:href=\"#DejaVuSans-63\"/>\n      <use x=\"241.162109\" xlink:href=\"#DejaVuSans-68\"/>\n     </g>\n    </g>\n   </g>\n   <g id=\"matplotlib.axis_2\">\n    <g id=\"ytick_1\">\n     <g id=\"line2d_7\">\n      <defs>\n       <path d=\"M 0 0 \nL -3.5 0 \n\" id=\"m627629f320\" style=\"stroke:#000000;stroke-width:0.8;\"/>\n      </defs>\n      <g>\n       <use style=\"stroke:#000000;stroke-width:0.8;\" x=\"43.78125\" xlink:href=\"#m627629f320\" y=\"164.436263\"/>\n      </g>\n     </g>\n     <g id=\"text_8\">\n      <!-- 0.4 -->\n      <g transform=\"translate(20.878125 168.235481)scale(0.1 -0.1)\">\n       <defs>\n        <path d=\"M 684 794 \nL 1344 794 \nL 1344 0 \nL 684 0 \nL 684 794 \nz\n\" id=\"DejaVuSans-2e\" transform=\"scale(0.015625)\"/>\n       </defs>\n       <use xlink:href=\"#DejaVuSans-30\"/>\n       <use x=\"63.623047\" xlink:href=\"#DejaVuSans-2e\"/>\n       <use x=\"95.410156\" xlink:href=\"#DejaVuSans-34\"/>\n      </g>\n     </g>\n    </g>\n    <g id=\"ytick_2\">\n     <g id=\"line2d_8\">\n      <g>\n       <use style=\"stroke:#000000;stroke-width:0.8;\" x=\"43.78125\" xlink:href=\"#m627629f320\" y=\"128.705385\"/>\n      </g>\n     </g>\n     <g id=\"text_9\">\n      <!-- 0.5 -->\n      <g transform=\"translate(20.878125 132.504604)scale(0.1 -0.1)\">\n       <use xlink:href=\"#DejaVuSans-30\"/>\n       <use x=\"63.623047\" xlink:href=\"#DejaVuSans-2e\"/>\n       <use x=\"95.410156\" xlink:href=\"#DejaVuSans-35\"/>\n      </g>\n     </g>\n    </g>\n    <g id=\"ytick_3\">\n     <g id=\"line2d_9\">\n      <g>\n       <use style=\"stroke:#000000;stroke-width:0.8;\" x=\"43.78125\" xlink:href=\"#m627629f320\" y=\"92.974508\"/>\n      </g>\n     </g>\n     <g id=\"text_10\">\n      <!-- 0.6 -->\n      <g transform=\"translate(20.878125 96.773727)scale(0.1 -0.1)\">\n       <defs>\n        <path d=\"M 2113 2584 \nQ 1688 2584 1439 2293 \nQ 1191 2003 1191 1497 \nQ 1191 994 1439 701 \nQ 1688 409 2113 409 \nQ 2538 409 2786 701 \nQ 3034 994 3034 1497 \nQ 3034 2003 2786 2293 \nQ 2538 2584 2113 2584 \nz\nM 3366 4563 \nL 3366 3988 \nQ 3128 4100 2886 4159 \nQ 2644 4219 2406 4219 \nQ 1781 4219 1451 3797 \nQ 1122 3375 1075 2522 \nQ 1259 2794 1537 2939 \nQ 1816 3084 2150 3084 \nQ 2853 3084 3261 2657 \nQ 3669 2231 3669 1497 \nQ 3669 778 3244 343 \nQ 2819 -91 2113 -91 \nQ 1303 -91 875 529 \nQ 447 1150 447 2328 \nQ 447 3434 972 4092 \nQ 1497 4750 2381 4750 \nQ 2619 4750 2861 4703 \nQ 3103 4656 3366 4563 \nz\n\" id=\"DejaVuSans-36\" transform=\"scale(0.015625)\"/>\n       </defs>\n       <use xlink:href=\"#DejaVuSans-30\"/>\n       <use x=\"63.623047\" xlink:href=\"#DejaVuSans-2e\"/>\n       <use x=\"95.410156\" xlink:href=\"#DejaVuSans-36\"/>\n      </g>\n     </g>\n    </g>\n    <g id=\"ytick_4\">\n     <g id=\"line2d_10\">\n      <g>\n       <use style=\"stroke:#000000;stroke-width:0.8;\" x=\"43.78125\" xlink:href=\"#m627629f320\" y=\"57.243631\"/>\n      </g>\n     </g>\n     <g id=\"text_11\">\n      <!-- 0.7 -->\n      <g transform=\"translate(20.878125 61.04285)scale(0.1 -0.1)\">\n       <defs>\n        <path d=\"M 525 4666 \nL 3525 4666 \nL 3525 4397 \nL 1831 0 \nL 1172 0 \nL 2766 4134 \nL 525 4134 \nL 525 4666 \nz\n\" id=\"DejaVuSans-37\" transform=\"scale(0.015625)\"/>\n       </defs>\n       <use xlink:href=\"#DejaVuSans-30\"/>\n       <use x=\"63.623047\" xlink:href=\"#DejaVuSans-2e\"/>\n       <use x=\"95.410156\" xlink:href=\"#DejaVuSans-37\"/>\n      </g>\n     </g>\n    </g>\n    <g id=\"text_12\">\n     <!-- accuracy -->\n     <g transform=\"translate(14.798438 126.4175)rotate(-90)scale(0.1 -0.1)\">\n      <defs>\n       <path d=\"M 2194 1759 \nQ 1497 1759 1228 1600 \nQ 959 1441 959 1056 \nQ 959 750 1161 570 \nQ 1363 391 1709 391 \nQ 2188 391 2477 730 \nQ 2766 1069 2766 1631 \nL 2766 1759 \nL 2194 1759 \nz\nM 3341 1997 \nL 3341 0 \nL 2766 0 \nL 2766 531 \nQ 2569 213 2275 61 \nQ 1981 -91 1556 -91 \nQ 1019 -91 701 211 \nQ 384 513 384 1019 \nQ 384 1609 779 1909 \nQ 1175 2209 1959 2209 \nL 2766 2209 \nL 2766 2266 \nQ 2766 2663 2505 2880 \nQ 2244 3097 1772 3097 \nQ 1472 3097 1187 3025 \nQ 903 2953 641 2809 \nL 641 3341 \nQ 956 3463 1253 3523 \nQ 1550 3584 1831 3584 \nQ 2591 3584 2966 3190 \nQ 3341 2797 3341 1997 \nz\n\" id=\"DejaVuSans-61\" transform=\"scale(0.015625)\"/>\n       <path d=\"M 544 1381 \nL 544 3500 \nL 1119 3500 \nL 1119 1403 \nQ 1119 906 1312 657 \nQ 1506 409 1894 409 \nQ 2359 409 2629 706 \nQ 2900 1003 2900 1516 \nL 2900 3500 \nL 3475 3500 \nL 3475 0 \nL 2900 0 \nL 2900 538 \nQ 2691 219 2414 64 \nQ 2138 -91 1772 -91 \nQ 1169 -91 856 284 \nQ 544 659 544 1381 \nz\nM 1991 3584 \nL 1991 3584 \nz\n\" id=\"DejaVuSans-75\" transform=\"scale(0.015625)\"/>\n       <path d=\"M 2631 2963 \nQ 2534 3019 2420 3045 \nQ 2306 3072 2169 3072 \nQ 1681 3072 1420 2755 \nQ 1159 2438 1159 1844 \nL 1159 0 \nL 581 0 \nL 581 3500 \nL 1159 3500 \nL 1159 2956 \nQ 1341 3275 1631 3429 \nQ 1922 3584 2338 3584 \nQ 2397 3584 2469 3576 \nQ 2541 3569 2628 3553 \nL 2631 2963 \nz\n\" id=\"DejaVuSans-72\" transform=\"scale(0.015625)\"/>\n       <path d=\"M 2059 -325 \nQ 1816 -950 1584 -1140 \nQ 1353 -1331 966 -1331 \nL 506 -1331 \nL 506 -850 \nL 844 -850 \nQ 1081 -850 1212 -737 \nQ 1344 -625 1503 -206 \nL 1606 56 \nL 191 3500 \nL 800 3500 \nL 1894 763 \nL 2988 3500 \nL 3597 3500 \nL 2059 -325 \nz\n\" id=\"DejaVuSans-79\" transform=\"scale(0.015625)\"/>\n      </defs>\n      <use xlink:href=\"#DejaVuSans-61\"/>\n      <use x=\"61.279297\" xlink:href=\"#DejaVuSans-63\"/>\n      <use x=\"116.259766\" xlink:href=\"#DejaVuSans-63\"/>\n      <use x=\"171.240234\" xlink:href=\"#DejaVuSans-75\"/>\n      <use x=\"234.619141\" xlink:href=\"#DejaVuSans-72\"/>\n      <use x=\"275.732422\" xlink:href=\"#DejaVuSans-61\"/>\n      <use x=\"337.011719\" xlink:href=\"#DejaVuSans-63\"/>\n      <use x=\"391.992188\" xlink:href=\"#DejaVuSans-79\"/>\n     </g>\n    </g>\n   </g>\n   <g id=\"line2d_11\">\n    <path clip-path=\"url(#pf123e914d4)\" d=\"M 57.615961 177.985398 \nL 63.262781 134.751039 \nL 68.909602 116.163832 \nL 74.556423 105.759012 \nL 80.203244 97.412274 \nL 85.850064 90.387585 \nL 91.496885 85.156573 \nL 97.143706 80.783116 \nL 102.790526 77.517309 \nL 108.437347 74.322975 \nL 114.084168 72.629332 \nL 119.730989 70.685573 \nL 125.377809 68.906165 \nL 131.02463 66.469333 \nL 136.671451 64.18256 \nL 142.318271 64.404073 \nL 147.965092 62.310254 \nL 153.611913 60.459394 \nL 159.258734 60.030617 \nL 164.905554 58.144041 \nL 170.552375 57.679527 \nL 176.199196 58.401291 \nL 181.846016 55.764349 \nL 187.492837 55.228403 \nL 193.139658 53.627658 \nL 198.786479 54.642409 \nL 204.433299 53.055955 \nL 210.08012 52.191265 \nL 215.726941 51.305149 \nL 221.373761 51.984021 \nL 227.020582 50.490487 \nL 232.667403 50.769183 \nL 238.314224 49.297073 \nL 243.961044 49.761566 \nL 249.607865 48.310903 \nL 255.254686 48.675342 \nL 260.901506 47.789227 \nL 266.548327 48.382356 \nL 272.195148 47.574849 \nL 277.841969 45.673962 \nL 283.488789 46.159901 \nL 289.13561 45.573907 \nL 294.782431 44.937907 \nL 300.429251 45.502455 \nL 306.076072 45.466718 \nL 311.722893 45.059386 \nL 317.369713 44.587737 \nL 323.016534 44.480548 \nL 328.663355 44.259014 \nL 334.310176 43.101337 \n\" style=\"fill:none;stroke:#1f77b4;stroke-linecap:square;stroke-width:1.5;\"/>\n   </g>\n   <g id=\"line2d_12\">\n    <path clip-path=\"url(#pf123e914d4)\" d=\"M 57.615961 127.383337 \nL 63.262781 111.054321 \nL 68.909602 94.761042 \nL 74.556423 87.364758 \nL 80.203244 78.2891 \nL 85.850064 72.893737 \nL 91.496885 62.924829 \nL 97.143706 65.854758 \nL 102.790526 61.852895 \nL 108.437347 57.100688 \nL 114.084168 56.421817 \nL 119.730989 63.103492 \nL 125.377809 49.847331 \nL 131.02463 53.777719 \nL 136.671451 44.344778 \nL 142.318271 49.847331 \nL 147.965092 45.13086 \nL 153.611913 50.633412 \nL 159.258734 44.487704 \nL 164.905554 43.951737 \nL 170.552375 43.308581 \nL 176.199196 43.594433 \nL 181.846016 40.70022 \nL 187.492837 43.41577 \nL 193.139658 44.666346 \nL 198.786479 37.698818 \nL 204.433299 38.020407 \nL 210.08012 37.627366 \nL 215.726941 45.095123 \nL 221.373761 46.095583 \nL 227.020582 35.626446 \nL 232.667403 37.698818 \nL 238.314224 36.98421 \nL 243.961044 35.126216 \nL 249.607865 34.733175 \nL 255.254686 36.626906 \nL 260.901506 36.805547 \nL 266.548327 35.26912 \nL 272.195148 36.269602 \nL 277.841969 34.590249 \nL 283.488789 36.305317 \nL 289.13561 36.626906 \nL 294.782431 36.841284 \nL 300.429251 36.591169 \nL 306.076072 30.05242 \nL 311.722893 34.804627 \nL 317.369713 29.730852 \nL 323.016534 39.235267 \nL 328.663355 30.981428 \nL 334.310176 32.410666 \n\" style=\"fill:none;stroke:#ff7f0e;stroke-linecap:square;stroke-width:1.5;\"/>\n   </g>\n   <g id=\"patch_3\">\n    <path d=\"M 43.78125 185.398125 \nL 43.78125 22.318125 \n\" style=\"fill:none;stroke:#000000;stroke-linecap:square;stroke-linejoin:miter;stroke-width:0.8;\"/>\n   </g>\n   <g id=\"patch_4\">\n    <path d=\"M 348.144886 185.398125 \nL 348.144886 22.318125 \n\" style=\"fill:none;stroke:#000000;stroke-linecap:square;stroke-linejoin:miter;stroke-width:0.8;\"/>\n   </g>\n   <g id=\"patch_5\">\n    <path d=\"M 43.78125 185.398125 \nL 348.144886 185.398125 \n\" style=\"fill:none;stroke:#000000;stroke-linecap:square;stroke-linejoin:miter;stroke-width:0.8;\"/>\n   </g>\n   <g id=\"patch_6\">\n    <path d=\"M 43.78125 22.318125 \nL 348.144886 22.318125 \n\" style=\"fill:none;stroke:#000000;stroke-linecap:square;stroke-linejoin:miter;stroke-width:0.8;\"/>\n   </g>\n   <g id=\"text_13\">\n    <!-- Model Accuracy -->\n    <g transform=\"translate(148.646506 16.318125)scale(0.12 -0.12)\">\n     <defs>\n      <path d=\"M 628 4666 \nL 1569 4666 \nL 2759 1491 \nL 3956 4666 \nL 4897 4666 \nL 4897 0 \nL 4281 0 \nL 4281 4097 \nL 3078 897 \nL 2444 897 \nL 1241 4097 \nL 1241 0 \nL 628 0 \nL 628 4666 \nz\n\" id=\"DejaVuSans-4d\" transform=\"scale(0.015625)\"/>\n      <path d=\"M 2906 2969 \nL 2906 4863 \nL 3481 4863 \nL 3481 0 \nL 2906 0 \nL 2906 525 \nQ 2725 213 2448 61 \nQ 2172 -91 1784 -91 \nQ 1150 -91 751 415 \nQ 353 922 353 1747 \nQ 353 2572 751 3078 \nQ 1150 3584 1784 3584 \nQ 2172 3584 2448 3432 \nQ 2725 3281 2906 2969 \nz\nM 947 1747 \nQ 947 1113 1208 752 \nQ 1469 391 1925 391 \nQ 2381 391 2643 752 \nQ 2906 1113 2906 1747 \nQ 2906 2381 2643 2742 \nQ 2381 3103 1925 3103 \nQ 1469 3103 1208 2742 \nQ 947 2381 947 1747 \nz\n\" id=\"DejaVuSans-64\" transform=\"scale(0.015625)\"/>\n      <path d=\"M 603 4863 \nL 1178 4863 \nL 1178 0 \nL 603 0 \nL 603 4863 \nz\n\" id=\"DejaVuSans-6c\" transform=\"scale(0.015625)\"/>\n      <path id=\"DejaVuSans-20\" transform=\"scale(0.015625)\"/>\n      <path d=\"M 2188 4044 \nL 1331 1722 \nL 3047 1722 \nL 2188 4044 \nz\nM 1831 4666 \nL 2547 4666 \nL 4325 0 \nL 3669 0 \nL 3244 1197 \nL 1141 1197 \nL 716 0 \nL 50 0 \nL 1831 4666 \nz\n\" id=\"DejaVuSans-41\" transform=\"scale(0.015625)\"/>\n     </defs>\n     <use xlink:href=\"#DejaVuSans-4d\"/>\n     <use x=\"86.279297\" xlink:href=\"#DejaVuSans-6f\"/>\n     <use x=\"147.460938\" xlink:href=\"#DejaVuSans-64\"/>\n     <use x=\"210.9375\" xlink:href=\"#DejaVuSans-65\"/>\n     <use x=\"272.460938\" xlink:href=\"#DejaVuSans-6c\"/>\n     <use x=\"300.244141\" xlink:href=\"#DejaVuSans-20\"/>\n     <use x=\"332.03125\" xlink:href=\"#DejaVuSans-41\"/>\n     <use x=\"398.689453\" xlink:href=\"#DejaVuSans-63\"/>\n     <use x=\"453.669922\" xlink:href=\"#DejaVuSans-63\"/>\n     <use x=\"508.650391\" xlink:href=\"#DejaVuSans-75\"/>\n     <use x=\"572.029297\" xlink:href=\"#DejaVuSans-72\"/>\n     <use x=\"613.142578\" xlink:href=\"#DejaVuSans-61\"/>\n     <use x=\"674.421875\" xlink:href=\"#DejaVuSans-63\"/>\n     <use x=\"729.402344\" xlink:href=\"#DejaVuSans-79\"/>\n    </g>\n   </g>\n   <g id=\"legend_1\">\n    <g id=\"patch_7\">\n     <path d=\"M 259.910511 180.398125 \nL 341.144886 180.398125 \nQ 343.144886 180.398125 343.144886 178.398125 \nL 343.144886 150.041875 \nQ 343.144886 148.041875 341.144886 148.041875 \nL 259.910511 148.041875 \nQ 257.910511 148.041875 257.910511 150.041875 \nL 257.910511 178.398125 \nQ 257.910511 180.398125 259.910511 180.398125 \nz\n\" style=\"fill:#ffffff;opacity:0.8;stroke:#cccccc;stroke-linejoin:miter;\"/>\n    </g>\n    <g id=\"line2d_13\">\n     <path d=\"M 261.910511 156.140312 \nL 281.910511 156.140312 \n\" style=\"fill:none;stroke:#1f77b4;stroke-linecap:square;stroke-width:1.5;\"/>\n    </g>\n    <g id=\"line2d_14\"/>\n    <g id=\"text_14\">\n     <!-- train -->\n     <g transform=\"translate(289.910511 159.640312)scale(0.1 -0.1)\">\n      <defs>\n       <path d=\"M 1172 4494 \nL 1172 3500 \nL 2356 3500 \nL 2356 3053 \nL 1172 3053 \nL 1172 1153 \nQ 1172 725 1289 603 \nQ 1406 481 1766 481 \nL 2356 481 \nL 2356 0 \nL 1766 0 \nQ 1100 0 847 248 \nQ 594 497 594 1153 \nL 594 3053 \nL 172 3053 \nL 172 3500 \nL 594 3500 \nL 594 4494 \nL 1172 4494 \nz\n\" id=\"DejaVuSans-74\" transform=\"scale(0.015625)\"/>\n       <path d=\"M 603 3500 \nL 1178 3500 \nL 1178 0 \nL 603 0 \nL 603 3500 \nz\nM 603 4863 \nL 1178 4863 \nL 1178 4134 \nL 603 4134 \nL 603 4863 \nz\n\" id=\"DejaVuSans-69\" transform=\"scale(0.015625)\"/>\n       <path d=\"M 3513 2113 \nL 3513 0 \nL 2938 0 \nL 2938 2094 \nQ 2938 2591 2744 2837 \nQ 2550 3084 2163 3084 \nQ 1697 3084 1428 2787 \nQ 1159 2491 1159 1978 \nL 1159 0 \nL 581 0 \nL 581 3500 \nL 1159 3500 \nL 1159 2956 \nQ 1366 3272 1645 3428 \nQ 1925 3584 2291 3584 \nQ 2894 3584 3203 3211 \nQ 3513 2838 3513 2113 \nz\n\" id=\"DejaVuSans-6e\" transform=\"scale(0.015625)\"/>\n      </defs>\n      <use xlink:href=\"#DejaVuSans-74\"/>\n      <use x=\"39.208984\" xlink:href=\"#DejaVuSans-72\"/>\n      <use x=\"80.322266\" xlink:href=\"#DejaVuSans-61\"/>\n      <use x=\"141.601562\" xlink:href=\"#DejaVuSans-69\"/>\n      <use x=\"169.384766\" xlink:href=\"#DejaVuSans-6e\"/>\n     </g>\n    </g>\n    <g id=\"line2d_15\">\n     <path d=\"M 261.910511 170.818437 \nL 281.910511 170.818437 \n\" style=\"fill:none;stroke:#ff7f0e;stroke-linecap:square;stroke-width:1.5;\"/>\n    </g>\n    <g id=\"line2d_16\"/>\n    <g id=\"text_15\">\n     <!-- validation -->\n     <g transform=\"translate(289.910511 174.318437)scale(0.1 -0.1)\">\n      <defs>\n       <path d=\"M 191 3500 \nL 800 3500 \nL 1894 563 \nL 2988 3500 \nL 3597 3500 \nL 2284 0 \nL 1503 0 \nL 191 3500 \nz\n\" id=\"DejaVuSans-76\" transform=\"scale(0.015625)\"/>\n      </defs>\n      <use xlink:href=\"#DejaVuSans-76\"/>\n      <use x=\"59.179688\" xlink:href=\"#DejaVuSans-61\"/>\n      <use x=\"120.458984\" xlink:href=\"#DejaVuSans-6c\"/>\n      <use x=\"148.242188\" xlink:href=\"#DejaVuSans-69\"/>\n      <use x=\"176.025391\" xlink:href=\"#DejaVuSans-64\"/>\n      <use x=\"239.501953\" xlink:href=\"#DejaVuSans-61\"/>\n      <use x=\"300.78125\" xlink:href=\"#DejaVuSans-74\"/>\n      <use x=\"339.990234\" xlink:href=\"#DejaVuSans-69\"/>\n      <use x=\"367.773438\" xlink:href=\"#DejaVuSans-6f\"/>\n      <use x=\"428.955078\" xlink:href=\"#DejaVuSans-6e\"/>\n     </g>\n    </g>\n   </g>\n  </g>\n  <g id=\"axes_2\">\n   <g id=\"patch_8\">\n    <path d=\"M 409.017614 185.398125 \nL 713.38125 185.398125 \nL 713.38125 22.318125 \nL 409.017614 22.318125 \nz\n\" style=\"fill:#ffffff;\"/>\n   </g>\n   <g id=\"matplotlib.axis_3\">\n    <g id=\"xtick_7\">\n     <g id=\"line2d_17\">\n      <g>\n       <use style=\"stroke:#000000;stroke-width:0.8;\" x=\"422.852324\" xlink:href=\"#m0a3443a8c0\" y=\"185.398125\"/>\n      </g>\n     </g>\n     <g id=\"text_16\">\n      <!-- 0 -->\n      <g transform=\"translate(419.671074 199.996562)scale(0.1 -0.1)\">\n       <use xlink:href=\"#DejaVuSans-30\"/>\n      </g>\n     </g>\n    </g>\n    <g id=\"xtick_8\">\n     <g id=\"line2d_18\">\n      <g>\n       <use style=\"stroke:#000000;stroke-width:0.8;\" x=\"479.320531\" xlink:href=\"#m0a3443a8c0\" y=\"185.398125\"/>\n      </g>\n     </g>\n     <g id=\"text_17\">\n      <!-- 10 -->\n      <g transform=\"translate(472.958031 199.996562)scale(0.1 -0.1)\">\n       <use xlink:href=\"#DejaVuSans-31\"/>\n       <use x=\"63.623047\" xlink:href=\"#DejaVuSans-30\"/>\n      </g>\n     </g>\n    </g>\n    <g id=\"xtick_9\">\n     <g id=\"line2d_19\">\n      <g>\n       <use style=\"stroke:#000000;stroke-width:0.8;\" x=\"535.788739\" xlink:href=\"#m0a3443a8c0\" y=\"185.398125\"/>\n      </g>\n     </g>\n     <g id=\"text_18\">\n      <!-- 20 -->\n      <g transform=\"translate(529.426239 199.996562)scale(0.1 -0.1)\">\n       <use xlink:href=\"#DejaVuSans-32\"/>\n       <use x=\"63.623047\" xlink:href=\"#DejaVuSans-30\"/>\n      </g>\n     </g>\n    </g>\n    <g id=\"xtick_10\">\n     <g id=\"line2d_20\">\n      <g>\n       <use style=\"stroke:#000000;stroke-width:0.8;\" x=\"592.256946\" xlink:href=\"#m0a3443a8c0\" y=\"185.398125\"/>\n      </g>\n     </g>\n     <g id=\"text_19\">\n      <!-- 30 -->\n      <g transform=\"translate(585.894446 199.996562)scale(0.1 -0.1)\">\n       <use xlink:href=\"#DejaVuSans-33\"/>\n       <use x=\"63.623047\" xlink:href=\"#DejaVuSans-30\"/>\n      </g>\n     </g>\n    </g>\n    <g id=\"xtick_11\">\n     <g id=\"line2d_21\">\n      <g>\n       <use style=\"stroke:#000000;stroke-width:0.8;\" x=\"648.725153\" xlink:href=\"#m0a3443a8c0\" y=\"185.398125\"/>\n      </g>\n     </g>\n     <g id=\"text_20\">\n      <!-- 40 -->\n      <g transform=\"translate(642.362653 199.996562)scale(0.1 -0.1)\">\n       <use xlink:href=\"#DejaVuSans-34\"/>\n       <use x=\"63.623047\" xlink:href=\"#DejaVuSans-30\"/>\n      </g>\n     </g>\n    </g>\n    <g id=\"xtick_12\">\n     <g id=\"line2d_22\">\n      <g>\n       <use style=\"stroke:#000000;stroke-width:0.8;\" x=\"705.19336\" xlink:href=\"#m0a3443a8c0\" y=\"185.398125\"/>\n      </g>\n     </g>\n     <g id=\"text_21\">\n      <!-- 50 -->\n      <g transform=\"translate(698.83086 199.996562)scale(0.1 -0.1)\">\n       <use xlink:href=\"#DejaVuSans-35\"/>\n       <use x=\"63.623047\" xlink:href=\"#DejaVuSans-30\"/>\n      </g>\n     </g>\n    </g>\n    <g id=\"text_22\">\n     <!-- epoch -->\n     <g transform=\"translate(545.971307 213.674688)scale(0.1 -0.1)\">\n      <use xlink:href=\"#DejaVuSans-65\"/>\n      <use x=\"61.523438\" xlink:href=\"#DejaVuSans-70\"/>\n      <use x=\"125\" xlink:href=\"#DejaVuSans-6f\"/>\n      <use x=\"186.181641\" xlink:href=\"#DejaVuSans-63\"/>\n      <use x=\"241.162109\" xlink:href=\"#DejaVuSans-68\"/>\n     </g>\n    </g>\n   </g>\n   <g id=\"matplotlib.axis_4\">\n    <g id=\"ytick_5\">\n     <g id=\"line2d_23\">\n      <g>\n       <use style=\"stroke:#000000;stroke-width:0.8;\" x=\"409.017614\" xlink:href=\"#m627629f320\" y=\"184.384299\"/>\n      </g>\n     </g>\n     <g id=\"text_23\">\n      <!-- 0.6 -->\n      <g transform=\"translate(386.114489 188.183518)scale(0.1 -0.1)\">\n       <use xlink:href=\"#DejaVuSans-30\"/>\n       <use x=\"63.623047\" xlink:href=\"#DejaVuSans-2e\"/>\n       <use x=\"95.410156\" xlink:href=\"#DejaVuSans-36\"/>\n      </g>\n     </g>\n    </g>\n    <g id=\"ytick_6\">\n     <g id=\"line2d_24\">\n      <g>\n       <use style=\"stroke:#000000;stroke-width:0.8;\" x=\"409.017614\" xlink:href=\"#m627629f320\" y=\"156.901979\"/>\n      </g>\n     </g>\n     <g id=\"text_24\">\n      <!-- 0.8 -->\n      <g transform=\"translate(386.114489 160.701198)scale(0.1 -0.1)\">\n       <defs>\n        <path d=\"M 2034 2216 \nQ 1584 2216 1326 1975 \nQ 1069 1734 1069 1313 \nQ 1069 891 1326 650 \nQ 1584 409 2034 409 \nQ 2484 409 2743 651 \nQ 3003 894 3003 1313 \nQ 3003 1734 2745 1975 \nQ 2488 2216 2034 2216 \nz\nM 1403 2484 \nQ 997 2584 770 2862 \nQ 544 3141 544 3541 \nQ 544 4100 942 4425 \nQ 1341 4750 2034 4750 \nQ 2731 4750 3128 4425 \nQ 3525 4100 3525 3541 \nQ 3525 3141 3298 2862 \nQ 3072 2584 2669 2484 \nQ 3125 2378 3379 2068 \nQ 3634 1759 3634 1313 \nQ 3634 634 3220 271 \nQ 2806 -91 2034 -91 \nQ 1263 -91 848 271 \nQ 434 634 434 1313 \nQ 434 1759 690 2068 \nQ 947 2378 1403 2484 \nz\nM 1172 3481 \nQ 1172 3119 1398 2916 \nQ 1625 2713 2034 2713 \nQ 2441 2713 2670 2916 \nQ 2900 3119 2900 3481 \nQ 2900 3844 2670 4047 \nQ 2441 4250 2034 4250 \nQ 1625 4250 1398 4047 \nQ 1172 3844 1172 3481 \nz\n\" id=\"DejaVuSans-38\" transform=\"scale(0.015625)\"/>\n       </defs>\n       <use xlink:href=\"#DejaVuSans-30\"/>\n       <use x=\"63.623047\" xlink:href=\"#DejaVuSans-2e\"/>\n       <use x=\"95.410156\" xlink:href=\"#DejaVuSans-38\"/>\n      </g>\n     </g>\n    </g>\n    <g id=\"ytick_7\">\n     <g id=\"line2d_25\">\n      <g>\n       <use style=\"stroke:#000000;stroke-width:0.8;\" x=\"409.017614\" xlink:href=\"#m627629f320\" y=\"129.419659\"/>\n      </g>\n     </g>\n     <g id=\"text_25\">\n      <!-- 1.0 -->\n      <g transform=\"translate(386.114489 133.218877)scale(0.1 -0.1)\">\n       <use xlink:href=\"#DejaVuSans-31\"/>\n       <use x=\"63.623047\" xlink:href=\"#DejaVuSans-2e\"/>\n       <use x=\"95.410156\" xlink:href=\"#DejaVuSans-30\"/>\n      </g>\n     </g>\n    </g>\n    <g id=\"ytick_8\">\n     <g id=\"line2d_26\">\n      <g>\n       <use style=\"stroke:#000000;stroke-width:0.8;\" x=\"409.017614\" xlink:href=\"#m627629f320\" y=\"101.937338\"/>\n      </g>\n     </g>\n     <g id=\"text_26\">\n      <!-- 1.2 -->\n      <g transform=\"translate(386.114489 105.736557)scale(0.1 -0.1)\">\n       <use xlink:href=\"#DejaVuSans-31\"/>\n       <use x=\"63.623047\" xlink:href=\"#DejaVuSans-2e\"/>\n       <use x=\"95.410156\" xlink:href=\"#DejaVuSans-32\"/>\n      </g>\n     </g>\n    </g>\n    <g id=\"ytick_9\">\n     <g id=\"line2d_27\">\n      <g>\n       <use style=\"stroke:#000000;stroke-width:0.8;\" x=\"409.017614\" xlink:href=\"#m627629f320\" y=\"74.455018\"/>\n      </g>\n     </g>\n     <g id=\"text_27\">\n      <!-- 1.4 -->\n      <g transform=\"translate(386.114489 78.254237)scale(0.1 -0.1)\">\n       <use xlink:href=\"#DejaVuSans-31\"/>\n       <use x=\"63.623047\" xlink:href=\"#DejaVuSans-2e\"/>\n       <use x=\"95.410156\" xlink:href=\"#DejaVuSans-34\"/>\n      </g>\n     </g>\n    </g>\n    <g id=\"ytick_10\">\n     <g id=\"line2d_28\">\n      <g>\n       <use style=\"stroke:#000000;stroke-width:0.8;\" x=\"409.017614\" xlink:href=\"#m627629f320\" y=\"46.972698\"/>\n      </g>\n     </g>\n     <g id=\"text_28\">\n      <!-- 1.6 -->\n      <g transform=\"translate(386.114489 50.771916)scale(0.1 -0.1)\">\n       <use xlink:href=\"#DejaVuSans-31\"/>\n       <use x=\"63.623047\" xlink:href=\"#DejaVuSans-2e\"/>\n       <use x=\"95.410156\" xlink:href=\"#DejaVuSans-36\"/>\n      </g>\n     </g>\n    </g>\n    <g id=\"text_29\">\n     <!-- loss -->\n     <g transform=\"translate(380.034801 113.515937)rotate(-90)scale(0.1 -0.1)\">\n      <defs>\n       <path d=\"M 2834 3397 \nL 2834 2853 \nQ 2591 2978 2328 3040 \nQ 2066 3103 1784 3103 \nQ 1356 3103 1142 2972 \nQ 928 2841 928 2578 \nQ 928 2378 1081 2264 \nQ 1234 2150 1697 2047 \nL 1894 2003 \nQ 2506 1872 2764 1633 \nQ 3022 1394 3022 966 \nQ 3022 478 2636 193 \nQ 2250 -91 1575 -91 \nQ 1294 -91 989 -36 \nQ 684 19 347 128 \nL 347 722 \nQ 666 556 975 473 \nQ 1284 391 1588 391 \nQ 1994 391 2212 530 \nQ 2431 669 2431 922 \nQ 2431 1156 2273 1281 \nQ 2116 1406 1581 1522 \nL 1381 1569 \nQ 847 1681 609 1914 \nQ 372 2147 372 2553 \nQ 372 3047 722 3315 \nQ 1072 3584 1716 3584 \nQ 2034 3584 2315 3537 \nQ 2597 3491 2834 3397 \nz\n\" id=\"DejaVuSans-73\" transform=\"scale(0.015625)\"/>\n      </defs>\n      <use xlink:href=\"#DejaVuSans-6c\"/>\n      <use x=\"27.783203\" xlink:href=\"#DejaVuSans-6f\"/>\n      <use x=\"88.964844\" xlink:href=\"#DejaVuSans-73\"/>\n      <use x=\"141.064453\" xlink:href=\"#DejaVuSans-73\"/>\n     </g>\n    </g>\n   </g>\n   <g id=\"line2d_29\">\n    <path clip-path=\"url(#p20f2c1b03a)\" d=\"M 422.852324 29.730852 \nL 428.499145 72.740924 \nL 434.145966 88.4751 \nL 439.792787 100.614456 \nL 445.439607 109.410635 \nL 451.086428 116.692954 \nL 456.733249 121.649439 \nL 462.380069 125.412455 \nL 468.02689 128.444153 \nL 473.673711 131.993433 \nL 479.320531 133.669412 \nL 484.967352 136.558885 \nL 490.614173 138.79737 \nL 496.260994 140.322605 \nL 501.907814 142.394638 \nL 507.554635 142.712743 \nL 513.201456 145.176759 \nL 518.848276 146.185133 \nL 524.495097 146.702281 \nL 530.141918 148.892205 \nL 535.788739 150.18295 \nL 541.435559 149.457742 \nL 547.08238 151.086119 \nL 552.729201 152.639529 \nL 558.376021 153.945901 \nL 564.022842 153.897611 \nL 569.669663 154.328711 \nL 575.316484 155.259505 \nL 580.963304 155.863226 \nL 586.610125 155.978824 \nL 592.256946 157.101749 \nL 597.903766 157.311823 \nL 603.550587 158.687101 \nL 609.197408 157.896968 \nL 614.844229 158.948996 \nL 620.491049 159.058371 \nL 626.13787 160.028397 \nL 631.784691 159.054808 \nL 637.431511 160.717183 \nL 643.078332 161.729406 \nL 648.725153 162.042343 \nL 654.371974 162.483182 \nL 660.018794 163.128296 \nL 665.665615 162.52089 \nL 671.312436 162.483567 \nL 676.959256 163.813683 \nL 682.606077 164.667136 \nL 688.252898 163.285961 \nL 693.899719 163.960741 \nL 699.546539 164.982612 \n\" style=\"fill:none;stroke:#1f77b4;stroke-linecap:square;stroke-width:1.5;\"/>\n   </g>\n   <g id=\"line2d_30\">\n    <path clip-path=\"url(#p20f2c1b03a)\" d=\"M 422.852324 79.744624 \nL 428.499145 96.43591 \nL 434.145966 111.464697 \nL 439.792787 121.704199 \nL 445.439607 128.262785 \nL 451.086428 132.797424 \nL 456.733249 143.086847 \nL 462.380069 141.765961 \nL 468.02689 145.810767 \nL 473.673711 149.548737 \nL 479.320531 152.050887 \nL 484.967352 142.033622 \nL 490.614173 157.144437 \nL 496.260994 151.367089 \nL 501.907814 162.966143 \nL 507.554635 156.46643 \nL 513.201456 161.93152 \nL 518.848276 156.231047 \nL 524.495097 161.666758 \nL 530.141918 163.838819 \nL 535.788739 164.120019 \nL 541.435559 161.056919 \nL 547.08238 167.222564 \nL 552.729201 163.517896 \nL 558.376021 162.739475 \nL 564.022842 169.412046 \nL 569.669663 169.769474 \nL 575.316484 167.844164 \nL 580.963304 161.474603 \nL 586.610125 161.787328 \nL 592.256946 169.705982 \nL 597.903766 169.067723 \nL 603.550587 169.51504 \nL 609.197408 172.067987 \nL 614.844229 171.133908 \nL 620.491049 172.804809 \nL 626.13787 170.652584 \nL 631.784691 171.603069 \nL 637.431511 170.715437 \nL 643.078332 173.772984 \nL 648.725153 172.964595 \nL 654.371974 170.990429 \nL 660.018794 169.400785 \nL 665.665615 171.227122 \nL 671.312436 175.684641 \nL 676.959256 173.835632 \nL 682.606077 177.985398 \nL 688.252898 169.283458 \nL 693.899719 175.236194 \nL 699.546539 175.453607 \n\" style=\"fill:none;stroke:#ff7f0e;stroke-linecap:square;stroke-width:1.5;\"/>\n   </g>\n   <g id=\"patch_9\">\n    <path d=\"M 409.017614 185.398125 \nL 409.017614 22.318125 \n\" style=\"fill:none;stroke:#000000;stroke-linecap:square;stroke-linejoin:miter;stroke-width:0.8;\"/>\n   </g>\n   <g id=\"patch_10\">\n    <path d=\"M 713.38125 185.398125 \nL 713.38125 22.318125 \n\" style=\"fill:none;stroke:#000000;stroke-linecap:square;stroke-linejoin:miter;stroke-width:0.8;\"/>\n   </g>\n   <g id=\"patch_11\">\n    <path d=\"M 409.017614 185.398125 \nL 713.38125 185.398125 \n\" style=\"fill:none;stroke:#000000;stroke-linecap:square;stroke-linejoin:miter;stroke-width:0.8;\"/>\n   </g>\n   <g id=\"patch_12\">\n    <path d=\"M 409.017614 22.318125 \nL 713.38125 22.318125 \n\" style=\"fill:none;stroke:#000000;stroke-linecap:square;stroke-linejoin:miter;stroke-width:0.8;\"/>\n   </g>\n   <g id=\"text_30\">\n    <!-- Model Loss -->\n    <g transform=\"translate(528.115994 16.318125)scale(0.12 -0.12)\">\n     <defs>\n      <path d=\"M 628 4666 \nL 1259 4666 \nL 1259 531 \nL 3531 531 \nL 3531 0 \nL 628 0 \nL 628 4666 \nz\n\" id=\"DejaVuSans-4c\" transform=\"scale(0.015625)\"/>\n     </defs>\n     <use xlink:href=\"#DejaVuSans-4d\"/>\n     <use x=\"86.279297\" xlink:href=\"#DejaVuSans-6f\"/>\n     <use x=\"147.460938\" xlink:href=\"#DejaVuSans-64\"/>\n     <use x=\"210.9375\" xlink:href=\"#DejaVuSans-65\"/>\n     <use x=\"272.460938\" xlink:href=\"#DejaVuSans-6c\"/>\n     <use x=\"300.244141\" xlink:href=\"#DejaVuSans-20\"/>\n     <use x=\"332.03125\" xlink:href=\"#DejaVuSans-4c\"/>\n     <use x=\"385.994141\" xlink:href=\"#DejaVuSans-6f\"/>\n     <use x=\"447.175781\" xlink:href=\"#DejaVuSans-73\"/>\n     <use x=\"499.275391\" xlink:href=\"#DejaVuSans-73\"/>\n    </g>\n   </g>\n   <g id=\"legend_2\">\n    <g id=\"patch_13\">\n     <path d=\"M 625.146875 59.674375 \nL 706.38125 59.674375 \nQ 708.38125 59.674375 708.38125 57.674375 \nL 708.38125 29.318125 \nQ 708.38125 27.318125 706.38125 27.318125 \nL 625.146875 27.318125 \nQ 623.146875 27.318125 623.146875 29.318125 \nL 623.146875 57.674375 \nQ 623.146875 59.674375 625.146875 59.674375 \nz\n\" style=\"fill:#ffffff;opacity:0.8;stroke:#cccccc;stroke-linejoin:miter;\"/>\n    </g>\n    <g id=\"line2d_31\">\n     <path d=\"M 627.146875 35.416562 \nL 647.146875 35.416562 \n\" style=\"fill:none;stroke:#1f77b4;stroke-linecap:square;stroke-width:1.5;\"/>\n    </g>\n    <g id=\"line2d_32\"/>\n    <g id=\"text_31\">\n     <!-- train -->\n     <g transform=\"translate(655.146875 38.916562)scale(0.1 -0.1)\">\n      <use xlink:href=\"#DejaVuSans-74\"/>\n      <use x=\"39.208984\" xlink:href=\"#DejaVuSans-72\"/>\n      <use x=\"80.322266\" xlink:href=\"#DejaVuSans-61\"/>\n      <use x=\"141.601562\" xlink:href=\"#DejaVuSans-69\"/>\n      <use x=\"169.384766\" xlink:href=\"#DejaVuSans-6e\"/>\n     </g>\n    </g>\n    <g id=\"line2d_33\">\n     <path d=\"M 627.146875 50.094687 \nL 647.146875 50.094687 \n\" style=\"fill:none;stroke:#ff7f0e;stroke-linecap:square;stroke-width:1.5;\"/>\n    </g>\n    <g id=\"line2d_34\"/>\n    <g id=\"text_32\">\n     <!-- validation -->\n     <g transform=\"translate(655.146875 53.594687)scale(0.1 -0.1)\">\n      <use xlink:href=\"#DejaVuSans-76\"/>\n      <use x=\"59.179688\" xlink:href=\"#DejaVuSans-61\"/>\n      <use x=\"120.458984\" xlink:href=\"#DejaVuSans-6c\"/>\n      <use x=\"148.242188\" xlink:href=\"#DejaVuSans-69\"/>\n      <use x=\"176.025391\" xlink:href=\"#DejaVuSans-64\"/>\n      <use x=\"239.501953\" xlink:href=\"#DejaVuSans-61\"/>\n      <use x=\"300.78125\" xlink:href=\"#DejaVuSans-74\"/>\n      <use x=\"339.990234\" xlink:href=\"#DejaVuSans-69\"/>\n      <use x=\"367.773438\" xlink:href=\"#DejaVuSans-6f\"/>\n      <use x=\"428.955078\" xlink:href=\"#DejaVuSans-6e\"/>\n     </g>\n    </g>\n   </g>\n  </g>\n </g>\n <defs>\n  <clipPath id=\"pf123e914d4\">\n   <rect height=\"163.08\" width=\"304.363636\" x=\"43.78125\" y=\"22.318125\"/>\n  </clipPath>\n  <clipPath id=\"p20f2c1b03a\">\n   <rect height=\"163.08\" width=\"304.363636\" x=\"409.017614\" y=\"22.318125\"/>\n  </clipPath>\n </defs>\n</svg>\n",
      "image/png": "[encoded data removed]"
     },
     "metadata": {
      "needs_background": "light"
     }
    }
   ],
   "metadata": {}
  },
  {
   "cell_type": "markdown",
   "source": [
    "# Predict"
   ],
   "metadata": {}
  },
  {
   "cell_type": "markdown",
   "source": [
    "## 이미지를 직접 load 해서 넣는 방법"
   ],
   "metadata": {}
  },
  {
   "cell_type": "code",
   "execution_count": 75,
   "source": [
    "path = testPaths[0]\n",
    "gfile = tf.io.read_file(path)\n",
    "image = tf.io.decode_image(gfile)\n",
    "image = image[tf.newaxis, ...]\n",
    "\n",
    "print(f\"[*] Test path : {path}\")\n",
    "print(f\"[*] Test image shape : {image.shape}\")"
   ],
   "outputs": [
    {
     "output_type": "stream",
     "name": "stdout",
     "text": [
      "[*] Test path : dataset/cifar/test/2598_cat.png\n",
      "[*] Test image shape : (1, 32, 32, 3)\n"
     ]
    }
   ],
   "metadata": {}
  },
  {
   "cell_type": "code",
   "execution_count": 82,
   "source": [
    "pred = model.predict(image)\n",
    "pred, np.argmax(pred), classNames[np.argmax(pred)]"
   ],
   "outputs": [
    {
     "output_type": "execute_result",
     "data": {
      "text/plain": [
       "(array([[0., 0., 0., 0., 0., 1., 0., 0., 0., 0.]], dtype=float32), 5, 'dog')"
      ]
     },
     "metadata": {},
     "execution_count": 82
    }
   ],
   "metadata": {}
  },
  {
   "cell_type": "markdown",
   "source": [
    "## generator 해서 데이터를 가져오는 방법"
   ],
   "metadata": {}
  },
  {
   "cell_type": "code",
   "execution_count": 83,
   "source": [
    "testImage, testLabel = next(iter(testDataset))\n",
    "testImage.shape, testLabel"
   ],
   "outputs": [
    {
     "output_type": "execute_result",
     "data": {
      "text/plain": [
       "(TensorShape([100, 32, 32, 3]),\n",
       " <tf.Tensor: shape=(100,), dtype=int64, numpy=\n",
       " array([3, 7, 4, 7, 1, 2, 3, 2, 1, 8, 0, 4, 1, 1, 5, 0, 5, 0, 9, 1, 4, 9,\n",
       "        4, 9, 8, 6, 4, 1, 1, 3, 6, 4, 6, 9, 7, 6, 4, 9, 9, 7, 8, 7, 9, 8,\n",
       "        2, 8, 1, 7, 2, 2, 3, 4, 5, 6, 0, 5, 9, 6, 1, 8, 3, 3, 5, 0, 0, 7,\n",
       "        0, 7, 3, 2, 1, 5, 1, 6, 7, 9, 5, 7, 6, 5, 7, 9, 5, 4, 5, 6, 8, 3,\n",
       "        2, 5, 6, 5, 3, 1, 8, 7, 6, 0, 6, 0])>)"
      ]
     },
     "metadata": {},
     "execution_count": 83
    }
   ],
   "metadata": {}
  },
  {
   "cell_type": "code",
   "execution_count": 86,
   "source": [
    "pred = model.predict(testImage)\n",
    "pred.shape"
   ],
   "outputs": [
    {
     "output_type": "stream",
     "name": "stderr",
     "text": [
      "2021-08-15 15:06:25.688597: I tensorflow/core/grappler/optimizers/custom_graph_optimizer_registry.cc:112] Plugin optimizer for device_type GPU is enabled.\n"
     ]
    },
    {
     "output_type": "execute_result",
     "data": {
      "text/plain": [
       "(100, 10)"
      ]
     },
     "metadata": {},
     "execution_count": 86
    }
   ],
   "metadata": {}
  },
  {
   "cell_type": "code",
   "execution_count": 89,
   "source": [
    "for i in range(0, pred.shape[0]):\n",
    "    index = np.argmax(pred[i])\n",
    "    if index == testLabel[i].numpy():\n",
    "        print(\"success\")\n",
    "    else:\n",
    "        print(\"fail\")"
   ],
   "outputs": [
    {
     "output_type": "stream",
     "name": "stdout",
     "text": [
      "success\n",
      "success\n",
      "success\n",
      "fail\n",
      "fail\n",
      "success\n",
      "fail\n",
      "fail\n",
      "success\n",
      "success\n",
      "fail\n",
      "success\n",
      "success\n",
      "success\n",
      "success\n",
      "fail\n",
      "success\n",
      "success\n",
      "success\n",
      "success\n",
      "success\n",
      "success\n",
      "success\n",
      "success\n",
      "success\n",
      "success\n",
      "success\n",
      "fail\n",
      "success\n",
      "fail\n",
      "fail\n",
      "success\n",
      "success\n",
      "success\n",
      "fail\n",
      "success\n",
      "success\n",
      "success\n",
      "success\n",
      "success\n",
      "success\n",
      "success\n",
      "success\n",
      "success\n",
      "fail\n",
      "success\n",
      "success\n",
      "success\n",
      "fail\n",
      "fail\n",
      "success\n",
      "success\n",
      "success\n",
      "success\n",
      "success\n",
      "success\n",
      "success\n",
      "success\n",
      "success\n",
      "success\n",
      "success\n",
      "fail\n",
      "success\n",
      "success\n",
      "success\n",
      "fail\n",
      "success\n",
      "success\n",
      "fail\n",
      "success\n",
      "success\n",
      "fail\n",
      "fail\n",
      "success\n",
      "success\n",
      "fail\n",
      "fail\n",
      "success\n",
      "fail\n",
      "success\n",
      "success\n",
      "success\n",
      "fail\n",
      "fail\n",
      "success\n",
      "success\n",
      "success\n",
      "fail\n",
      "success\n",
      "fail\n",
      "success\n",
      "success\n",
      "fail\n",
      "success\n",
      "success\n",
      "fail\n",
      "success\n",
      "success\n",
      "success\n",
      "success\n"
     ]
    }
   ],
   "metadata": {}
  },
  {
   "cell_type": "markdown",
   "source": [
    "## generator에 넣는 방법"
   ],
   "metadata": {}
  },
  {
   "cell_type": "code",
   "execution_count": 90,
   "source": [
    "pred = model.predict_generator(testDataset.take(1)) # 한개의 배치 만큼 가져옴"
   ],
   "outputs": [
    {
     "output_type": "stream",
     "name": "stderr",
     "text": [
      "/Users/yoon-yeoungjin/miniforge3/envs/tf/lib/python3.8/site-packages/tensorflow/python/keras/engine/training.py:2001: UserWarning: `Model.predict_generator` is deprecated and will be removed in a future version. Please use `Model.predict`, which supports generators.\n",
      "  warnings.warn('`Model.predict_generator` is deprecated and '\n",
      "2021-08-15 15:09:08.324725: I tensorflow/core/grappler/optimizers/custom_graph_optimizer_registry.cc:112] Plugin optimizer for device_type GPU is enabled.\n"
     ]
    }
   ],
   "metadata": {}
  },
  {
   "cell_type": "code",
   "execution_count": 91,
   "source": [
    "pred.shape"
   ],
   "outputs": [
    {
     "output_type": "execute_result",
     "data": {
      "text/plain": [
       "(100, 10)"
      ]
     },
     "metadata": {},
     "execution_count": 91
    }
   ],
   "metadata": {}
  },
  {
   "cell_type": "code",
   "execution_count": 92,
   "source": [
    "image, label = next(iter(testDataset))\n",
    "eval = model.evaluate(image, label)"
   ],
   "outputs": [
    {
     "output_type": "stream",
     "name": "stdout",
     "text": [
      "4/4 [==============================] - 0s 24ms/step - loss: 0.7539 - accuracy: 0.7300\n"
     ]
    },
    {
     "output_type": "stream",
     "name": "stderr",
     "text": [
      "2021-08-15 15:09:55.495742: I tensorflow/core/grappler/optimizers/custom_graph_optimizer_registry.cc:112] Plugin optimizer for device_type GPU is enabled.\n"
     ]
    }
   ],
   "metadata": {}
  },
  {
   "cell_type": "code",
   "execution_count": 93,
   "source": [
    "eval"
   ],
   "outputs": [
    {
     "output_type": "execute_result",
     "data": {
      "text/plain": [
       "[0.7539242506027222, 0.7299999594688416]"
      ]
     },
     "metadata": {},
     "execution_count": 93
    }
   ],
   "metadata": {}
  },
  {
   "cell_type": "markdown",
   "source": [
    "# Saving Model"
   ],
   "metadata": {}
  },
  {
   "cell_type": "code",
   "execution_count": 94,
   "source": [
    "savePath = 'checkPoints/myModel.h5'"
   ],
   "outputs": [],
   "metadata": {}
  },
  {
   "cell_type": "code",
   "execution_count": 95,
   "source": [
    "model.save(savePath)"
   ],
   "outputs": [],
   "metadata": {}
  },
  {
   "cell_type": "code",
   "execution_count": 96,
   "source": [
    "model.save(savePath, include_optimizer=True)    # model.compile 정보도 저장"
   ],
   "outputs": [],
   "metadata": {}
  },
  {
   "cell_type": "code",
   "execution_count": 97,
   "source": [
    "# 모델 불러오기\n",
    "model = tf.keras.models.load_model(savePath)"
   ],
   "outputs": [],
   "metadata": {}
  },
  {
   "cell_type": "markdown",
   "source": [
    "# Save model - 2"
   ],
   "metadata": {}
  },
  {
   "cell_type": "code",
   "execution_count": 115,
   "source": [
    "model.save_weights('checkPoints/myModelWeight.h5')"
   ],
   "outputs": [],
   "metadata": {}
  },
  {
   "cell_type": "code",
   "execution_count": 117,
   "source": [
    "model.load_weights('checkPoints/myModelWeight.h5')  # json 형식은 읽을 수 없음"
   ],
   "outputs": [],
   "metadata": {}
  },
  {
   "cell_type": "code",
   "execution_count": 118,
   "source": [
    "with open('checkPoints/myModelWeight.h5', 'w') as f:        # json 형식으로도 저장 가능\n",
    "    f.write(model.to_json())"
   ],
   "outputs": [],
   "metadata": {}
  },
  {
   "cell_type": "code",
   "execution_count": 119,
   "source": [
    "from tensorflow.keras.models import model_from_json"
   ],
   "outputs": [],
   "metadata": {}
  },
  {
   "cell_type": "code",
   "execution_count": 120,
   "source": [
    "with open('checkPoints/myModelWeight.h5', 'r') as f:\n",
    "    model = model_from_json(f.read())"
   ],
   "outputs": [],
   "metadata": {}
  },
  {
   "cell_type": "markdown",
   "source": [
    "# H5 모델 들여다보기"
   ],
   "metadata": {}
  },
  {
   "cell_type": "code",
   "execution_count": 121,
   "source": [
    "import h5py"
   ],
   "outputs": [],
   "metadata": {}
  },
  {
   "cell_type": "code",
   "execution_count": 122,
   "source": [
    "modelFile = h5py.File(savePath)"
   ],
   "outputs": [],
   "metadata": {}
  },
  {
   "cell_type": "code",
   "execution_count": 123,
   "source": [
    "modelFile.keys()"
   ],
   "outputs": [
    {
     "output_type": "execute_result",
     "data": {
      "text/plain": [
       "<KeysViewHDF5 ['model_weights', 'optimizer_weights']>"
      ]
     },
     "metadata": {},
     "execution_count": 123
    }
   ],
   "metadata": {}
  },
  {
   "cell_type": "code",
   "execution_count": 124,
   "source": [
    "modelFile['model_weights'].keys()"
   ],
   "outputs": [
    {
     "output_type": "execute_result",
     "data": {
      "text/plain": [
       "<KeysViewHDF5 ['activation_14', 'activation_15', 'activation_16', 'activation_17', 'activation_18', 'conv2d_12', 'conv2d_13', 'conv2d_14', 'conv2d_15', 'dense_5', 'dense_6', 'dropout_10', 'dropout_11', 'dropout_9', 'flatten_3', 'input_4', 'max_pooling2d_6', 'max_pooling2d_7']>"
      ]
     },
     "metadata": {},
     "execution_count": 124
    }
   ],
   "metadata": {}
  },
  {
   "cell_type": "code",
   "execution_count": 127,
   "source": [
    "modelFile['model_weights']['conv2d_12']['conv2d_12'].keys()"
   ],
   "outputs": [
    {
     "output_type": "execute_result",
     "data": {
      "text/plain": [
       "<KeysViewHDF5 ['bias:0', 'kernel:0']>"
      ]
     },
     "metadata": {},
     "execution_count": 127
    }
   ],
   "metadata": {}
  },
  {
   "cell_type": "code",
   "execution_count": 128,
   "source": [
    "modelFile['model_weights']['conv2d_12']['conv2d_12']['kernel:0']"
   ],
   "outputs": [
    {
     "output_type": "execute_result",
     "data": {
      "text/plain": [
       "<HDF5 dataset \"kernel:0\": shape (3, 3, 3, 32), type \"<f4\">"
      ]
     },
     "metadata": {},
     "execution_count": 128
    }
   ],
   "metadata": {}
  },
  {
   "cell_type": "code",
   "execution_count": 129,
   "source": [
    "weight = np.array(modelFile['model_weights']['conv2d_12']['conv2d_12']['kernel:0'])\n",
    "weight.shape"
   ],
   "outputs": [
    {
     "output_type": "execute_result",
     "data": {
      "text/plain": [
       "(3, 3, 3, 32)"
      ]
     },
     "metadata": {},
     "execution_count": 129
    }
   ],
   "metadata": {}
  }
 ],
 "metadata": {
  "orig_nbformat": 4,
  "language_info": {
   "name": "python",
   "version": "3.8.10",
   "mimetype": "text/x-python",
   "codemirror_mode": {
    "name": "ipython",
    "version": 3
   },
   "pygments_lexer": "ipython3",
   "nbconvert_exporter": "python",
   "file_extension": ".py"
  },
  "kernelspec": {
   "name": "python3",
   "display_name": "Python 3.8.10 64-bit ('tf': conda)"
  },
  "interpreter": {
   "hash": "6ea1899a5e77b13f231a1a37eadc81f0fcf2368e902356063f2d431736590d21"
  }
 },
 "nbformat": 4,
 "nbformat_minor": 2
}