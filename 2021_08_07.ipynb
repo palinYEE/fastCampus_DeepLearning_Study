{
  "nbformat": 4,
  "nbformat_minor": 0,
  "metadata": {
    "colab": {
      "name": "2021-08-07.ipynb",
      "provenance": [],
      "collapsed_sections": []
    },
    "kernelspec": {
      "name": "python3",
      "display_name": "Python 3"
    },
    "language_info": {
      "name": "python"
    }
  },
  "cells": [
    {
      "cell_type": "code",
      "metadata": {
        "colab": {
          "base_uri": "https://localhost:8080/"
        },
        "id": "XAOu6jrvBuf-",
        "outputId": "5b4fee8d-4fd1-4457-dea0-dc1f6097476b"
      },
      "source": [
        "!pip install unidecode # unidecode 패키지 다운로드\n",
        "\n",
        "import unidecode\n",
        "\n",
        "# Figure1 참고\n",
        "# 이걸 실행하면 링크와 함께 무슨 authentication code를 넣으라고 칸이 뜬다.\n",
        "# 링크 누르고 계정 엑세스 하는걸 허용해 준 다음 링크를 복사해서 칸에 입력하면 된다.\n",
        "from google.colab import drive\n",
        "drive.mount(\"/content/drive\")"
      ],
      "execution_count": 1,
      "outputs": [
        {
          "output_type": "stream",
          "text": [
            "Requirement already satisfied: unidecode in /usr/local/lib/python3.7/dist-packages (1.2.0)\n",
            "Drive already mounted at /content/drive; to attempt to forcibly remount, call drive.mount(\"/content/drive\", force_remount=True).\n"
          ],
          "name": "stdout"
        }
      ]
    },
    {
      "cell_type": "markdown",
      "metadata": {
        "id": "G2FRl9DnBX0G"
      },
      "source": [
        "# tf_data의 사용법에 대해서 살펴보자. "
      ]
    },
    {
      "cell_type": "markdown",
      "metadata": {
        "id": "CfUZTPVeBqbf"
      },
      "source": [
        "## 데이터 읽어오기"
      ]
    },
    {
      "cell_type": "code",
      "metadata": {
        "colab": {
          "base_uri": "https://localhost:8080/"
        },
        "id": "n2kRtfDpB-Ud",
        "outputId": "3b82e5a3-88c0-439c-fa00-ecd437e51da8"
      },
      "source": [
        "import os\n",
        "from glob import glob\n",
        "\n",
        "import numpy as np\n",
        "import tensorflow as tf\n",
        "\n",
        "import matplotlib.pyplot as plt\n",
        "%matplotlib inline\n",
        "\n",
        "trainPath = '/content/drive/My Drive/Colab Notebooks/data/cifar/train/*.png'\n",
        "testPath = '/content/drive/My Drive/Colab Notebooks/data/cifar/test/*.png' \n",
        "trainDataPaths = glob(trainPath)\n",
        "testDataPaths = glob(testPath)\n",
        "\n",
        "print(\"[*] 데이터 경로 확인\")\n",
        "print(f\"   [-] train data : {len(trainDataPaths)}\")\n",
        "print(f\"   [-] train data sample: {trainDataPaths[0]}\")\n",
        "print(f\"   [-] test data : {len(testDataPaths)}\")\n",
        "print(f\"   [-] train data sample: {testDataPaths[0]}\")"
      ],
      "execution_count": 2,
      "outputs": [
        {
          "output_type": "stream",
          "text": [
            "[*] 데이터 경로 확인\n",
            "   [-] train data : 50000\n",
            "   [-] train data sample: /content/drive/My Drive/Colab Notebooks/data/cifar/train/7202_frog.png\n",
            "   [-] test data : 10000\n",
            "   [-] train data sample: /content/drive/My Drive/Colab Notebooks/data/cifar/test/1524_cat.png\n"
          ],
          "name": "stdout"
        }
      ]
    },
    {
      "cell_type": "markdown",
      "metadata": {
        "id": "uMMkU76CDxTZ"
      },
      "source": [
        "## 이미지 데이터 보기"
      ]
    },
    {
      "cell_type": "code",
      "metadata": {
        "colab": {
          "base_uri": "https://localhost:8080/",
          "height": 315
        },
        "id": "2-1eJIvXD-5a",
        "outputId": "cd321951-711b-4011-dcb9-78cca6dbde91"
      },
      "source": [
        "testPath = trainDataPaths[0]\n",
        "gfile = tf.io.read_file(testPath)\n",
        "image = tf.io.decode_image(gfile)\n",
        "print(f\"[*] 샘플 데이터 이미지 확인\")\n",
        "print(f\"    [-] shape : {image.shape}\")\n",
        "plt.title(os.path.basename(testPath))\n",
        "plt.imshow(image)\n",
        "plt.show()"
      ],
      "execution_count": 3,
      "outputs": [
        {
          "output_type": "stream",
          "text": [
            "[*] 샘플 데이터 이미지 확인\n",
            "    [-] shape : (32, 32, 3)\n"
          ],
          "name": "stdout"
        },
        {
          "output_type": "display_data",
          "data": {
            "image/png": "[encoded data removed]",
            "text/plain": [
              "<Figure size 432x288 with 1 Axes>"
            ]
          },
          "metadata": {
            "tags": [],
            "needs_background": "light"
          }
        }
      ]
    },
    {
      "cell_type": "markdown",
      "metadata": {
        "id": "AZbyebMUFDaS"
      },
      "source": [
        "## tf_data 사용을 위한 전처리 단계 "
      ]
    },
    {
      "cell_type": "code",
      "metadata": {
        "id": "2U_5T2YhGmNe"
      },
      "source": [
        "def read_image(path):\n",
        "  gfile = tf.io.read_file(path)\n",
        "  image = tf.io.decode_image(gfile)\n",
        "  return image\n",
        "\n",
        "def get_label(path):\n",
        "  return path.split('_')[-1].replace('.png', '')\n",
        "\n",
        "label_name = [get_label(path) for path in trainDataPaths]     # trainDataPaths에 저장되어있는 경로들에서 라벨을 추출\n",
        "class_names = np.unique(label_name)                           # 중복 제거를 통해서 class_names 생성\n",
        "\n",
        "def onehot_encoding(label):\n",
        "  return np.array(class_name == label, np.uint8)\n",
        "\n",
        "def read_image_label(path, label):\n",
        "  gfile = tf.io.read_file(path)\n",
        "  image = tf.io.decode_image(gfile)\n",
        "  return image, label\n",
        "\n",
        "def get_label_tensor(path):\n",
        "  fname = tf.strings.split(path, '_')[-1]\n",
        "  cls_name = tf.strings.regex_replace(fname, '.png', '')\n",
        "  onehot_encoding = tf.cast(class_name == cls_name, tf.uint8)\n",
        "  return onehot_encoding"
      ],
      "execution_count": 4,
      "outputs": []
    },
    {
      "cell_type": "markdown",
      "metadata": {
        "id": "DfnGoeCHLzDE"
      },
      "source": [
        "우리는 라벨값을 얻는데 두가지 함수를 사용하였다. \n",
        " - `split()` : python 내장 함수 + `np.array()` : numpy 내장 함수\n",
        " - `tf.string.split()` : tensorflow 내장 함수 + `tf.cast` : tensorflow 내장 함수\n",
        "\n",
        "어떤 방법이 더 좋은 방법일까? \n",
        "\n",
        "검색을 해보니 일단 `tf.string.split()` 함수는 정규식도 지원하는 것으로 보인다. 이 함수의 입력 인자에 대한 설명은 다음과 같다."
      ]
    },
    {
      "cell_type": "markdown",
      "metadata": {
        "id": "hYN-rD6OLwrJ"
      },
      "source": [
        "`tf.strings.split(input, sep=None, maxsplit=-1, name=None)`\n",
        " - `input` : A string Tensor of rank N, the strings to split. If rank(input) is not known statically, then it is assumed to be 1.\n",
        " - `sep` : 0-D string Tensor, the delimiter string.\n",
        " - `maxsplit` : An int. If maxsplit > 0, limit of the split of the result.\n",
        " - `name` : A name for the operation (optional)."
      ]
    },
    {
      "cell_type": "markdown",
      "metadata": {
        "id": "mmKUok06O29e"
      },
      "source": [
        "즉 `tf.string.split` 함수가 `split`보다 조금 더 많은 기능을 지원한다. `np.array()`와 `tf.cast()`는 크게 차이가 없어 보인다. 자신에게 더 맞는 아무거나 사용하면 될 것 같다. "
      ]
    },
    {
      "cell_type": "markdown",
      "metadata": {
        "id": "WKrUnf9zFnz_"
      },
      "source": [
        "### tf.data.Dataset.from_tensor_slices(filenames)\n",
        "\n",
        "파일들을 불러들여 tensor를 생성하는 함수."
      ]
    },
    {
      "cell_type": "code",
      "metadata": {
        "id": "I8TjHqk-GuzD"
      },
      "source": [
        "batch_size = 8\n",
        "dataset = tf.data.Dataset.from_tensor_slices(trainDataPaths)    # 해당 경로들을 모두 텐서로 생성\n",
        "dataset = dataset.map(read_image)                               # 각 경로들을 읽어서 이미지로 변환\n",
        "dataset = dataset.batch(batch_size=batch_size)                  # 읽은 모든 데이터를 batch_size 만큼으로 분리\n",
        "tf_image = next(iter(dataset))\n",
        "print(f\"생성한 dataset shape : {tf_image.shape}\")"
      ],
      "execution_count": null,
      "outputs": []
    },
    {
      "cell_type": "markdown",
      "metadata": {
        "id": "391KbE4ZGCT-"
      },
      "source": [
        "### shuffle \n",
        "\n",
        "불러들인 데이터의 순서을 무작위로 섞는다. 단 이 메소드를 사용할 경우 시간이 오래걸린다."
      ]
    },
    {
      "cell_type": "code",
      "metadata": {
        "id": "yqoNR4r8HuU0",
        "colab": {
          "base_uri": "https://localhost:8080/"
        },
        "outputId": "729c6df4-694c-4897-a442-9aa21df23ea7"
      },
      "source": [
        "dataset = tf.data.Dataset.from_tensor_slices(trainDataPaths)    # 해당 경로들을 모두 텐서로 생성\n",
        "dataset = dataset.map(read_image)                               # 각 경로들을 읽어서 이미지로 변환\n",
        "dataset = dataset.batch(batch_size=batch_size)                  # 읽은 모든 데이터를 batch_size 만큼으로 분리\n",
        "dataset = dataset.shuffle(buffer_size = len(trainDataPaths))    # 버퍼 사이즈 만큼의 데이터를 랜덤으로 섞는다.\n",
        "tf_image = next(iter(dataset))\n",
        "print(f\"생성한 dataset shape : {tf_image.shape}\")"
      ],
      "execution_count": 6,
      "outputs": [
        {
          "output_type": "stream",
          "text": [
            "생성한 dataset shape : (8, 32, 32, 3)\n"
          ],
          "name": "stdout"
        }
      ]
    },
    {
      "cell_type": "markdown",
      "metadata": {
        "id": "PvWKgDglITN7"
      },
      "source": [
        "### repeat\n",
        "\n",
        "데이터 셋을 반복한다. "
      ]
    },
    {
      "cell_type": "code",
      "metadata": {
        "id": "YOttyGHAJj7i",
        "colab": {
          "base_uri": "https://localhost:8080/"
        },
        "outputId": "edc2df1f-9fd7-41f4-a72f-a603246d4748"
      },
      "source": [
        "label_names = [get_label(path) for path in trainDataPaths]     # trainDataPaths에 저장되어있는 경로들에서 라벨을 추출\n",
        "\n",
        "dataset = tf.data.Dataset.from_tensor_slices((trainDataPaths, label_names))\n",
        "dataset = dataset.map(read_image_label)\n",
        "dataset = dataset.batch(batch_size = batch_size)\n",
        "dataset = dataset.repeat()\n",
        "image, label = next(iter(dataset))\n",
        "print(f'image shape : {image.shape}')\n",
        "print(f'label shape : {label.shape}')"
      ],
      "execution_count": 9,
      "outputs": [
        {
          "output_type": "stream",
          "text": [
            "image shape : (8, 32, 32, 3)\n",
            "label shape : (8,)\n"
          ],
          "name": "stdout"
        }
      ]
    },
    {
      "cell_type": "markdown",
      "metadata": {
        "id": "AT9deloePgRR"
      },
      "source": [
        "## fit with tf.data"
      ]
    },
    {
      "cell_type": "markdown",
      "metadata": {
        "id": "t69C8v6GPvDP"
      },
      "source": [
        "### 사용할 함수들 정의"
      ]
    },
    {
      "cell_type": "code",
      "metadata": {
        "id": "SH7EWt8LP-uD"
      },
      "source": [
        "def get_class_name(path):\n",
        "  fname = tf.strings.split(path, '_')[-1]\n",
        "  lbl_name = tf.strings.regex_replace(fname, '.png', '')\n",
        "  return lbl_name\n",
        "\n",
        "class_names = [get_class_name(path) for path in trainDataPaths]\n",
        "classes = tf.unique(class_names).y.numpy()\n",
        "\n",
        "def onehot_encoding_function(path):\n",
        "  onehot_encoding = tf.cast(classes == get_class_name(path), tf.uint8)\n",
        "  return onehot_encoding\n",
        "\n",
        "def read_dataset(path):\n",
        "  gfile = tf.io.read_file(path)\n",
        "  image = tf.io.decode_image(gfile)\n",
        "\n",
        "  image = tf.cast(image, tf.float32) / 255.\n",
        "\n",
        "  label = onehot_encoding_function(path)\n",
        "\n",
        "  return image, label\n",
        "\n",
        "def image_preprocess(image, label):\n",
        "  image = tf.image.random_flip_left_right(image)      # 이미지를 랜덤으로 왼쪽 오른쪽으로 뒤집는다.\n",
        "  image = tf.image.random_flip_up_down(image)         # 이미지를 랜덤으로 위 아래로 뒤집는다.\n",
        "  return image, label"
      ],
      "execution_count": 32,
      "outputs": []
    },
    {
      "cell_type": "markdown",
      "metadata": {
        "id": "IJ7_S0N-SaQg"
      },
      "source": [
        "### 하이퍼 파라미터 정의"
      ]
    },
    {
      "cell_type": "code",
      "metadata": {
        "id": "F3XCmkGOSczs"
      },
      "source": [
        "num_epochs = 10\n",
        "batch_size = 32\n",
        "\n",
        "learning_rate = 0.001\n",
        "dropout_rate = 0.5\n",
        "\n",
        "input_shape = (32,32,3)\n",
        "num_classes = 10"
      ],
      "execution_count": 28,
      "outputs": []
    },
    {
      "cell_type": "markdown",
      "metadata": {
        "id": "OWVvNwMGR0_F"
      },
      "source": [
        "### 데이터셋 불러오기"
      ]
    },
    {
      "cell_type": "code",
      "metadata": {
        "id": "es4TTwPkR5Zx"
      },
      "source": [
        "train_dataset = tf.data.Dataset.from_tensor_slices(trainDataPaths)\n",
        "train_dataset = train_dataset.map(read_dataset)\n",
        "train_dataset = train_dataset.map(image_preprocess)\n",
        "train_dataset = train_dataset.batch(batch_size)\n",
        "train_dataset = train_dataset.repeat()\n",
        "\n",
        "test_dataset = tf.data.Dataset.from_tensor_slices(testDataPaths)\n",
        "test_dataset = test_dataset.map(read_dataset)\n",
        "test_dataset = test_dataset.batch(batch_size)\n",
        "test_dataset = test_dataset.repeat()"
      ],
      "execution_count": 34,
      "outputs": []
    },
    {
      "cell_type": "markdown",
      "metadata": {
        "id": "xEc6b-H9ie5V"
      },
      "source": [
        "### 모델 정의"
      ]
    },
    {
      "cell_type": "code",
      "metadata": {
        "id": "MMcWOf3giixq"
      },
      "source": [
        "from tensorflow.keras import layers\n",
        "from tensorflow.keras import datasets \n",
        "from tensorflow.keras.preprocessing.image import ImageDataGenerator\n",
        "\n",
        "inputs = layers.Input(input_shape)\n",
        "net = layers.Conv2D(32, (3,3), padding = 'SAME')(inputs)\n",
        "net = layers.Activation('relu')(net)\n",
        "net = layers.Conv2D(32, (3,3), padding = 'SAME')(net)\n",
        "net = layers.Activation('relu')(net)\n",
        "net = layers.MaxPooling2D(pool_size=(2,2))(net)\n",
        "net = layers.Dropout(dropout_rate)(net)\n",
        "\n",
        "net = layers.Conv2D(64, (3,3), padding = 'SAME')(net)\n",
        "net = layers.Activation('relu')(net)\n",
        "net = layers.Conv2D(64, (3,3), padding = 'SAME')(net)\n",
        "net = layers.Activation('relu')(net)\n",
        "net = layers.MaxPooling2D(pool_size = (2,2))(net)\n",
        "net = layers.Dropout(dropout_rate)(net)\n",
        "\n",
        "net = layers.Flatten()(net)\n",
        "net = layers.Dense(512)(net)\n",
        "net = layers.Activation('relu')(net)\n",
        "net = layers.Dropout(dropout_rate)(net)\n",
        "net = layers.Dense(num_classes)(net)\n",
        "net = layers.Activation('softmax')(net)\n",
        "\n",
        "model = tf.keras.Model(inputs = inputs, outputs = net, name = 'Basic_CNN')\n",
        "\n",
        "model.compile(\n",
        "    optimizer = tf.keras.optimizers.Adam(learning_rate),\n",
        "    loss = 'categorical_crossentropy',\n",
        "    metrics = ['accuracy']\n",
        ")"
      ],
      "execution_count": 36,
      "outputs": []
    },
    {
      "cell_type": "code",
      "metadata": {
        "colab": {
          "base_uri": "https://localhost:8080/"
        },
        "id": "rb2X6Xu7nW1b",
        "outputId": "6f42dd9f-8399-49b2-9a52-101a43a2156b"
      },
      "source": [
        "model.summary()"
      ],
      "execution_count": 39,
      "outputs": [
        {
          "output_type": "stream",
          "text": [
            "Model: \"Basic_CNN\"\n",
            "_________________________________________________________________\n",
            "Layer (type)                 Output Shape              Param #   \n",
            "=================================================================\n",
            "input_1 (InputLayer)         [(None, 32, 32, 3)]       0         \n",
            "_________________________________________________________________\n",
            "conv2d (Conv2D)              (None, 32, 32, 32)        896       \n",
            "_________________________________________________________________\n",
            "activation (Activation)      (None, 32, 32, 32)        0         \n",
            "_________________________________________________________________\n",
            "conv2d_1 (Conv2D)            (None, 32, 32, 32)        9248      \n",
            "_________________________________________________________________\n",
            "activation_1 (Activation)    (None, 32, 32, 32)        0         \n",
            "_________________________________________________________________\n",
            "max_pooling2d (MaxPooling2D) (None, 16, 16, 32)        0         \n",
            "_________________________________________________________________\n",
            "dropout (Dropout)            (None, 16, 16, 32)        0         \n",
            "_________________________________________________________________\n",
            "conv2d_2 (Conv2D)            (None, 16, 16, 64)        18496     \n",
            "_________________________________________________________________\n",
            "activation_2 (Activation)    (None, 16, 16, 64)        0         \n",
            "_________________________________________________________________\n",
            "conv2d_3 (Conv2D)            (None, 16, 16, 64)        36928     \n",
            "_________________________________________________________________\n",
            "activation_3 (Activation)    (None, 16, 16, 64)        0         \n",
            "_________________________________________________________________\n",
            "max_pooling2d_1 (MaxPooling2 (None, 8, 8, 64)          0         \n",
            "_________________________________________________________________\n",
            "dropout_1 (Dropout)          (None, 8, 8, 64)          0         \n",
            "_________________________________________________________________\n",
            "flatten (Flatten)            (None, 4096)              0         \n",
            "_________________________________________________________________\n",
            "dense (Dense)                (None, 512)               2097664   \n",
            "_________________________________________________________________\n",
            "activation_4 (Activation)    (None, 512)               0         \n",
            "_________________________________________________________________\n",
            "dropout_2 (Dropout)          (None, 512)               0         \n",
            "_________________________________________________________________\n",
            "dense_1 (Dense)              (None, 10)                5130      \n",
            "_________________________________________________________________\n",
            "activation_5 (Activation)    (None, 10)                0         \n",
            "=================================================================\n",
            "Total params: 2,168,362\n",
            "Trainable params: 2,168,362\n",
            "Non-trainable params: 0\n",
            "_________________________________________________________________\n"
          ],
          "name": "stdout"
        }
      ]
    },
    {
      "cell_type": "code",
      "metadata": {
        "colab": {
          "base_uri": "https://localhost:8080/"
        },
        "id": "CwMrsEqim8M8",
        "outputId": "d2354e31-eac0-404e-9a6e-5245981cd31e"
      },
      "source": [
        "model.fit_generator(\n",
        "    train_dataset,\n",
        "    steps_per_epoch = len(trainDataPaths) // batch_size,\n",
        "    validation_data = test_dataset,\n",
        "    validation_steps = len(testDataPaths) // batch_size,\n",
        "    epochs = num_epochs\n",
        ")"
      ],
      "execution_count": 38,
      "outputs": [
        {
          "output_type": "stream",
          "text": [
            "/usr/local/lib/python3.7/dist-packages/tensorflow/python/keras/engine/training.py:1940: UserWarning: `Model.fit_generator` is deprecated and will be removed in a future version. Please use `Model.fit`, which supports generators.\n",
            "  warnings.warn('`Model.fit_generator` is deprecated and '\n"
          ],
          "name": "stderr"
        },
        {
          "output_type": "stream",
          "text": [
            "Epoch 1/10\n",
            "1562/1562 [==============================] - 1680s 1s/step - loss: 1.7099 - accuracy: 0.3550 - val_loss: 1.3756 - val_accuracy: 0.4867\n",
            "Epoch 2/10\n",
            "1562/1562 [==============================] - 362s 232ms/step - loss: 1.4160 - accuracy: 0.4783 - val_loss: 1.2161 - val_accuracy: 0.5551\n",
            "Epoch 3/10\n",
            "1562/1562 [==============================] - 363s 233ms/step - loss: 1.3070 - accuracy: 0.5241 - val_loss: 1.1166 - val_accuracy: 0.5984\n",
            "Epoch 4/10\n",
            "1562/1562 [==============================] - 364s 233ms/step - loss: 1.2323 - accuracy: 0.5543 - val_loss: 1.0851 - val_accuracy: 0.6103\n",
            "Epoch 5/10\n",
            "1562/1562 [==============================] - 362s 232ms/step - loss: 1.1915 - accuracy: 0.5711 - val_loss: 1.0540 - val_accuracy: 0.6231\n",
            "Epoch 6/10\n",
            "1562/1562 [==============================] - 362s 232ms/step - loss: 1.1545 - accuracy: 0.5885 - val_loss: 1.0250 - val_accuracy: 0.6363\n",
            "Epoch 7/10\n",
            "1562/1562 [==============================] - 363s 232ms/step - loss: 1.1279 - accuracy: 0.5980 - val_loss: 0.9693 - val_accuracy: 0.6610\n",
            "Epoch 8/10\n",
            "1562/1562 [==============================] - 363s 232ms/step - loss: 1.1076 - accuracy: 0.6023 - val_loss: 0.9711 - val_accuracy: 0.6574\n",
            "Epoch 9/10\n",
            "1562/1562 [==============================] - 364s 233ms/step - loss: 1.0880 - accuracy: 0.6112 - val_loss: 1.0348 - val_accuracy: 0.6314\n",
            "Epoch 10/10\n",
            "1562/1562 [==============================] - 367s 235ms/step - loss: 1.0754 - accuracy: 0.6154 - val_loss: 0.9780 - val_accuracy: 0.6561\n"
          ],
          "name": "stdout"
        },
        {
          "output_type": "execute_result",
          "data": {
            "text/plain": [
              "<tensorflow.python.keras.callbacks.History at 0x7f35addd5650>"
            ]
          },
          "metadata": {
            "tags": []
          },
          "execution_count": 38
        }
      ]
    },
    {
      "cell_type": "markdown",
      "metadata": {
        "id": "u8vernbTnPOp"
      },
      "source": [
        "# callbacks에 대해서 알아보자."
      ]
    },
    {
      "cell_type": "markdown",
      "metadata": {
        "id": "g_r65Tixnd4W"
      },
      "source": [
        "모델을 훈련시키는 일은 대체적으로 오랜 시간이 걸린다. AI 개발자가 훈련을 따다 끝날때 까지 가만히 앉아서 잘 학습이 되기를 기도하는 것은 너무 불안한 일이다. 그래서 Tensorflow는 모델을 훈련시키는 동안 어떤 이벤트들이 발생하면 개발자가 원하는 동작을 수행할 수 있는 방법을 제공하고 있다. "
      ]
    },
    {
      "cell_type": "markdown",
      "metadata": {
        "id": "TXo3BL-HoV5R"
      },
      "source": [
        "## LambdaCallback\n",
        "\n",
        "Callback을 새롭게 만들어 쓰고는 싶은데 전체 클래스를 새로 만들기에는 부담스러울 때가 존재한다. 이때 Callback을 함수 형태로 전달할 수 있게 해주는 것이 LambdaCallback이다."
      ]
    },
    {
      "cell_type": "code",
      "metadata": {
        "id": "Hf0ya8FOpeYc"
      },
      "source": [
        "# https://www.tensorflow.org/tensorboard/r2/image_summaries\n",
        "\n",
        "from datetime import datetime\n",
        "\n",
        "import sklearn.metrics\n",
        "import itertools\n",
        "import io\n",
        "logdir = os.path.join('/content/drive/My Drive/Colab Notebooks/logs', datetime.now().strftime('%Y%m%d-%H%M%S'))\n",
        "file_writer_cm = tf.summary.create_file_writer(logdir + '/cm')\n",
        "\n",
        "def plot_to_image(figure):\n",
        "    \"\"\"Converts the matplotlib plot specified by 'figure' to a PNG image and\n",
        "    returns it. The supplied figure is closed and inaccessible after this call.\"\"\"\n",
        "    # Save the plot to a PNG in memory.\n",
        "    buf = io.BytesIO()\n",
        "    plt.savefig(buf, format='png')\n",
        "    # Closing the figure prevents it from being displayed directly inside\n",
        "    # the notebook.\n",
        "    plt.close(figure)\n",
        "    buf.seek(0)\n",
        "    # Convert PNG buffer to TF image\n",
        "    image = tf.image.decode_png(buf.getvalue(), channels=4)\n",
        "    # Add the batch dimension\n",
        "    image = tf.expand_dims(image, 0)\n",
        "    return image\n",
        "\n",
        "\n",
        "def plot_confusion_matrix(cm, class_names):\n",
        "    \"\"\"\n",
        "    Returns a matplotlib figure containing the plotted confusion matrix.\n",
        "\n",
        "    Args:\n",
        "    cm (array, shape = [n, n]): a confusion matrix of integer classes\n",
        "    class_names (array, shape = [n]): String names of the integer classes\n",
        "    \"\"\"\n",
        "    figure = plt.figure(figsize=(8, 8))\n",
        "    plt.imshow(cm, interpolation='nearest', cmap=plt.cm.Blues)\n",
        "    plt.title(\"Confusion matrix\")\n",
        "    plt.colorbar()\n",
        "    tick_marks = np.arange(len(class_names))\n",
        "    plt.xticks(tick_marks, class_names, rotation=45)\n",
        "    plt.yticks(tick_marks, class_names)\n",
        "\n",
        "    # Normalize the confusion matrix.\n",
        "    cm = np.around(cm.astype('float') / cm.sum(axis=1)[:, np.newaxis], decimals=2)\n",
        "\n",
        "    # Use white text if squares are dark; otherwise black.\n",
        "    threshold = cm.max() / 2.\n",
        "    for i, j in itertools.product(range(cm.shape[0]), range(cm.shape[1])):\n",
        "        color = \"white\" if cm[i, j] > threshold else \"black\"\n",
        "        plt.text(j, i, cm[i, j], horizontalalignment=\"center\", color=color)\n",
        "\n",
        "    plt.tight_layout()\n",
        "    plt.ylabel('True label')\n",
        "    plt.xlabel('Predicted label')\n",
        "    return figure"
      ],
      "execution_count": 42,
      "outputs": []
    },
    {
      "cell_type": "code",
      "metadata": {
        "id": "GRGj3YA5pgFT"
      },
      "source": [
        "test_images, test_labels = next(iter(test_dataset))  # Confusion Matrix 그릴 때 필요한 Test Image\n",
        "\n",
        "\n",
        "def log_confusion_matrix(epoch, logs):\n",
        "    # Use the model to predict the values from the validation dataset.\n",
        "    test_pred_raw = model.predict(test_images)\n",
        "    test_pred = np.argmax(test_pred_raw, axis=1)\n",
        "\n",
        "    # Calculate the confusion matrix.\n",
        "    cm = sklearn.metrics.confusion_matrix(test_labels, test_pred)\n",
        "    # Log the confusion matrix as an image summary.\n",
        "    figure = plot_confusion_matrix(cm, class_names=class_names)\n",
        "    cm_image = plot_to_image(figure)\n",
        "\n",
        "    # Log the confusion matrix as an image summary.\n",
        "    with file_writer_cm.as_default():\n",
        "        tf.summary.image(\"Confusion Matrix\", cm_image, step=epoch)"
      ],
      "execution_count": 43,
      "outputs": []
    },
    {
      "cell_type": "code",
      "metadata": {
        "id": "XKklaEQAplZ9"
      },
      "source": [
        "cm_callback = tf.keras.callbacks.LambdaCallback(on_epoch_end=log_confusion_matrix)"
      ],
      "execution_count": 44,
      "outputs": []
    },
    {
      "cell_type": "code",
      "metadata": {
        "id": "oomQLH_sppmD"
      },
      "source": [
        " model.fit_generator(\n",
        "    train_dataset, \n",
        "    steps_per_epoch = len(trainDataPaths) // batch_size,\n",
        "    validation_data = test_dataset,\n",
        "    validation_steps = len(testDataPaths) // batch_size,\n",
        "    epochs = num_epochs,\n",
        "    callbacks=[cm_callback]\n",
        ")"
      ],
      "execution_count": null,
      "outputs": []
    }
  ]
}